{
 "cells": [
  {
   "cell_type": "code",
   "execution_count": 1,
   "metadata": {},
   "outputs": [
    {
     "name": "stdout",
     "output_type": "stream",
     "text": [
      "Hola Mundo, esta es mi primera incursión en Python\n"
     ]
    }
   ],
   "source": [
    "#Desafío 1#\n",
    "print (\"Hola Mundo, esta es mi primera incursión en Python\")\n"
   ]
  },
  {
   "cell_type": "code",
   "execution_count": 12,
   "metadata": {},
   "outputs": [
    {
     "name": "stdout",
     "output_type": "stream",
     "text": [
      "Ingrese su nombreJuan\n",
      "Ingrese su edad32\n"
     ]
    }
   ],
   "source": [
    "#Desafío2#\n",
    "name= input(\"Ingrese su nombre\")\n",
    "age= int(input(\"Ingrese su edad\"))\n",
    "hobbies=[\" datos,\", \" futbol,\", \" y naturaleza\"]\n",
    "pets=\"gato: guapeton\"\n",
    " \n"
   ]
  },
  {
   "cell_type": "code",
   "execution_count": 15,
   "metadata": {},
   "outputs": [
    {
     "name": "stdout",
     "output_type": "stream",
     "text": [
      "Juan\n",
      "32\n",
      "['datos ,', 'futbol ,', ' y naturaleza']\n",
      "gato: guapeton\n",
      "futbol ,\n",
      "[<class 'str'>, <class 'int'>, <class 'list'>, <class 'str'>]\n",
      "mi nombre es Juan, mi edad es 32, mis hobbies favoritos son datos ,futbol , y naturaleza y mi mascota es gato: guapeton\n"
     ]
    }
   ],
   "source": [
    "#Desafío 3#\n",
    "print (name)\n",
    "print(age)\n",
    "print(hobbies)\n",
    "print(pets)\n",
    "\n",
    "print(hobbies[1])\n",
    "\n",
    "types=[type(name),type(age),type(hobbies),type(pets)]\n",
    "print(types)\n",
    "\n",
    "\n",
    "print(\"Mi nombre es {}, mi edad es {}, mis hobbies favoritos son {}{}{} y mi mascota es {}\".format(name,age,hobbies[0],hobbies[1],hobbies[2],pets))"
   ]
  },
  {
   "cell_type": "code",
   "execution_count": 1,
   "metadata": {},
   "outputs": [
    {
     "name": "stdout",
     "output_type": "stream",
     "text": [
      "Estaba la pájara pinta sentada en el verde limón\n",
      "Ornitorrinco45\n"
     ]
    }
   ],
   "source": [
    "#Desafío 4#\n",
    "\n",
    "print('Estaba la pájara pinta sentada en el verde limón') #falto cerrar el string con una comilla#\n",
    "\n",
    "import pandas as pd #error de sintaxis#\n",
    "import numpy as np #error de sintaxis#\n",
    "\n",
    "\"Ornitorrinco\" + \"45\"  #falto transformar el número a String#\n",
    "\n",
    "\n",
    "\n",
    " "
   ]
  },
  {
   "cell_type": "code",
   "execution_count": 10,
   "metadata": {},
   "outputs": [
    {
     "data": {
      "text/plain": [
       "count     144.000000\n",
       "mean     1954.500000\n",
       "std         3.464102\n",
       "min      1949.000000\n",
       "25%      1951.750000\n",
       "50%      1954.500000\n",
       "75%      1957.250000\n",
       "max      1960.000000\n",
       "Name: year, dtype: float64"
      ]
     },
     "execution_count": 10,
     "metadata": {},
     "output_type": "execute_result"
    }
   ],
   "source": [
    "#Desafío5#\n",
    "import pandas as pd\n",
    "import numpy as np\n",
    "\n",
    "df=pd.read_csv(\"flights.csv\")\n",
    "df.head()\n",
    "df.tail(5)\n",
    "df['year'].describe()\n",
    "\n"
   ]
  },
  {
   "cell_type": "code",
   "execution_count": 3,
   "metadata": {},
   "outputs": [
    {
     "data": {
      "text/html": [
       "<div>\n",
       "<style scoped>\n",
       "    .dataframe tbody tr th:only-of-type {\n",
       "        vertical-align: middle;\n",
       "    }\n",
       "\n",
       "    .dataframe tbody tr th {\n",
       "        vertical-align: top;\n",
       "    }\n",
       "\n",
       "    .dataframe thead th {\n",
       "        text-align: right;\n",
       "    }\n",
       "</style>\n",
       "<table border=\"1\" class=\"dataframe\">\n",
       "  <thead>\n",
       "    <tr style=\"text-align: right;\">\n",
       "      <th></th>\n",
       "      <th>year</th>\n",
       "      <th>month</th>\n",
       "      <th>passengers</th>\n",
       "    </tr>\n",
       "  </thead>\n",
       "  <tbody>\n",
       "    <tr>\n",
       "      <th>139</th>\n",
       "      <td>1960</td>\n",
       "      <td>August</td>\n",
       "      <td>606</td>\n",
       "    </tr>\n",
       "    <tr>\n",
       "      <th>140</th>\n",
       "      <td>1960</td>\n",
       "      <td>September</td>\n",
       "      <td>508</td>\n",
       "    </tr>\n",
       "    <tr>\n",
       "      <th>141</th>\n",
       "      <td>1960</td>\n",
       "      <td>October</td>\n",
       "      <td>461</td>\n",
       "    </tr>\n",
       "    <tr>\n",
       "      <th>142</th>\n",
       "      <td>1960</td>\n",
       "      <td>November</td>\n",
       "      <td>390</td>\n",
       "    </tr>\n",
       "    <tr>\n",
       "      <th>143</th>\n",
       "      <td>1960</td>\n",
       "      <td>December</td>\n",
       "      <td>432</td>\n",
       "    </tr>\n",
       "  </tbody>\n",
       "</table>\n",
       "</div>"
      ],
      "text/plain": [
       "     year      month  passengers\n",
       "139  1960     August         606\n",
       "140  1960  September         508\n",
       "141  1960    October         461\n",
       "142  1960   November         390\n",
       "143  1960   December         432"
      ]
     },
     "execution_count": 3,
     "metadata": {},
     "output_type": "execute_result"
    }
   ],
   "source": [
    "#Desafío5#\n",
    "df.tail(5)"
   ]
  },
  {
   "cell_type": "code",
   "execution_count": null,
   "metadata": {},
   "outputs": [],
   "source": [
    "#Desafío5#\n",
    "df['year'].describe()"
   ]
  },
  {
   "cell_type": "code",
   "execution_count": 32,
   "metadata": {},
   "outputs": [
    {
     "data": {
      "text/plain": [
       "1960    12\n",
       "1959    12\n",
       "1958    12\n",
       "1957    12\n",
       "1956    12\n",
       "1955    12\n",
       "1954    12\n",
       "1953    12\n",
       "1952    12\n",
       "1951    12\n",
       "1950    12\n",
       "1949    12\n",
       "Name: year, dtype: int64"
      ]
     },
     "execution_count": 32,
     "metadata": {},
     "output_type": "execute_result"
    }
   ],
   "source": [
    "#Desafío5#\n",
    "df['year'].value_counts()"
   ]
  },
  {
   "cell_type": "code",
   "execution_count": 33,
   "metadata": {},
   "outputs": [
    {
     "data": {
      "text/plain": [
       "May          12\n",
       "June         12\n",
       "March        12\n",
       "November     12\n",
       "December     12\n",
       "August       12\n",
       "February     12\n",
       "April        12\n",
       "September    12\n",
       "January      12\n",
       "October      12\n",
       "July         12\n",
       "Name: month, dtype: int64"
      ]
     },
     "execution_count": 33,
     "metadata": {},
     "output_type": "execute_result"
    }
   ],
   "source": [
    "#Desafío5#\n",
    "df['month'].value_counts()"
   ]
  },
  {
   "cell_type": "code",
   "execution_count": 8,
   "metadata": {},
   "outputs": [
    {
     "name": "stdout",
     "output_type": "stream",
     "text": [
      "129    407\n",
      "130    362\n",
      "131    405\n",
      "132    417\n",
      "133    391\n",
      "134    419\n",
      "135    461\n",
      "136    472\n",
      "137    535\n",
      "138    622\n",
      "139    606\n",
      "140    508\n",
      "141    461\n",
      "142    390\n",
      "143    432\n",
      "Name: passengers, dtype: int64\n"
     ]
    }
   ],
   "source": [
    "#Desafío5#\n",
    "first=df['passengers'].head(15)\n",
    "lost=df['passengers'].tail(15)\n",
    "np.mean(df['passengers'])\n",
    "np.median(df['passengers'])\n",
    "np.std(df['passengers'])\n",
    "\n"
   ]
  },
  {
   "cell_type": "code",
   "execution_count": 9,
   "metadata": {},
   "outputs": [
    {
     "data": {
      "text/plain": [
       "75.29426715671431"
      ]
     },
     "execution_count": 9,
     "metadata": {},
     "output_type": "execute_result"
    }
   ],
   "source": [
    "#Desafío5#\n",
    "np.mean(first) \n",
    "np.median(first)\n",
    "np.std(first)\n",
    "np.mean(lost) \n",
    "np.median(lost)\n",
    "np.std(lost)"
   ]
  },
  {
   "cell_type": "code",
   "execution_count": null,
   "metadata": {},
   "outputs": [],
   "source": []
  }
 ],
 "metadata": {
  "kernelspec": {
   "display_name": "Python 3",
   "language": "python",
   "name": "python3"
  },
  "language_info": {
   "codemirror_mode": {
    "name": "ipython",
    "version": 3
   },
   "file_extension": ".py",
   "mimetype": "text/x-python",
   "name": "python",
   "nbconvert_exporter": "python",
   "pygments_lexer": "ipython3",
   "version": "3.7.3"
  }
 },
 "nbformat": 4,
 "nbformat_minor": 2
}
