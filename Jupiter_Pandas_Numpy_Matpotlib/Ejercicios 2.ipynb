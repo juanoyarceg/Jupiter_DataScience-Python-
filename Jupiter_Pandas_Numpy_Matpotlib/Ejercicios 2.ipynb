{
 "cells": [
  {
   "cell_type": "code",
   "execution_count": 2,
   "metadata": {},
   "outputs": [],
   "source": [
    "import pandas as pd\n",
    "import numpy as np"
   ]
  },
  {
   "cell_type": "code",
   "execution_count": 3,
   "metadata": {},
   "outputs": [
    {
     "data": {
      "text/html": [
       "<div>\n",
       "<style scoped>\n",
       "    .dataframe tbody tr th:only-of-type {\n",
       "        vertical-align: middle;\n",
       "    }\n",
       "\n",
       "    .dataframe tbody tr th {\n",
       "        vertical-align: top;\n",
       "    }\n",
       "\n",
       "    .dataframe thead th {\n",
       "        text-align: right;\n",
       "    }\n",
       "</style>\n",
       "<table border=\"1\" class=\"dataframe\">\n",
       "  <thead>\n",
       "    <tr style=\"text-align: right;\">\n",
       "      <th></th>\n",
       "      <th>team</th>\n",
       "      <th>continent</th>\n",
       "      <th>group</th>\n",
       "      <th>group_pos</th>\n",
       "      <th>cantidad_juegos</th>\n",
       "      <th>juegos_ganados</th>\n",
       "      <th>juegos_empatados</th>\n",
       "      <th>juegos_perdidos</th>\n",
       "      <th>goles_favor</th>\n",
       "      <th>goles_contra</th>\n",
       "      <th>goles_diferencia</th>\n",
       "      <th>puntos</th>\n",
       "      <th>clasificado</th>\n",
       "    </tr>\n",
       "  </thead>\n",
       "  <tbody>\n",
       "    <tr>\n",
       "      <th>0</th>\n",
       "      <td>Brazil</td>\n",
       "      <td>southamerica</td>\n",
       "      <td>A</td>\n",
       "      <td>1</td>\n",
       "      <td>3</td>\n",
       "      <td>2</td>\n",
       "      <td>1</td>\n",
       "      <td>0</td>\n",
       "      <td>7</td>\n",
       "      <td>2</td>\n",
       "      <td>5</td>\n",
       "      <td>7</td>\n",
       "      <td>1</td>\n",
       "    </tr>\n",
       "    <tr>\n",
       "      <th>1</th>\n",
       "      <td>Mexico</td>\n",
       "      <td>northamerica</td>\n",
       "      <td>A</td>\n",
       "      <td>2</td>\n",
       "      <td>3</td>\n",
       "      <td>2</td>\n",
       "      <td>1</td>\n",
       "      <td>0</td>\n",
       "      <td>4</td>\n",
       "      <td>1</td>\n",
       "      <td>3</td>\n",
       "      <td>7</td>\n",
       "      <td>1</td>\n",
       "    </tr>\n",
       "    <tr>\n",
       "      <th>2</th>\n",
       "      <td>Croatia</td>\n",
       "      <td>europe</td>\n",
       "      <td>A</td>\n",
       "      <td>3</td>\n",
       "      <td>3</td>\n",
       "      <td>1</td>\n",
       "      <td>0</td>\n",
       "      <td>2</td>\n",
       "      <td>6</td>\n",
       "      <td>6</td>\n",
       "      <td>0</td>\n",
       "      <td>3</td>\n",
       "      <td>0</td>\n",
       "    </tr>\n",
       "    <tr>\n",
       "      <th>3</th>\n",
       "      <td>Cameroon</td>\n",
       "      <td>africa</td>\n",
       "      <td>A</td>\n",
       "      <td>4</td>\n",
       "      <td>3</td>\n",
       "      <td>0</td>\n",
       "      <td>0</td>\n",
       "      <td>3</td>\n",
       "      <td>1</td>\n",
       "      <td>9</td>\n",
       "      <td>−8</td>\n",
       "      <td>0</td>\n",
       "      <td>0</td>\n",
       "    </tr>\n",
       "    <tr>\n",
       "      <th>4</th>\n",
       "      <td>Netherlands</td>\n",
       "      <td>europe</td>\n",
       "      <td>B</td>\n",
       "      <td>1</td>\n",
       "      <td>3</td>\n",
       "      <td>3</td>\n",
       "      <td>0</td>\n",
       "      <td>0</td>\n",
       "      <td>10</td>\n",
       "      <td>3</td>\n",
       "      <td>7</td>\n",
       "      <td>9</td>\n",
       "      <td>1</td>\n",
       "    </tr>\n",
       "  </tbody>\n",
       "</table>\n",
       "</div>"
      ],
      "text/plain": [
       "          team     continent group  group_pos  cantidad_juegos  \\\n",
       "0       Brazil  southamerica     A          1                3   \n",
       "1       Mexico  northamerica     A          2                3   \n",
       "2      Croatia        europe     A          3                3   \n",
       "3     Cameroon        africa     A          4                3   \n",
       "4  Netherlands        europe     B          1                3   \n",
       "\n",
       "   juegos_ganados  juegos_empatados  juegos_perdidos  goles_favor  \\\n",
       "0               2                 1                0            7   \n",
       "1               2                 1                0            4   \n",
       "2               1                 0                2            6   \n",
       "3               0                 0                3            1   \n",
       "4               3                 0                0           10   \n",
       "\n",
       "   goles_contra goles_diferencia  puntos  clasificado  \n",
       "0             2                5       7            1  \n",
       "1             1                3       7            1  \n",
       "2             6                0       3            0  \n",
       "3             9               −8       0            0  \n",
       "4             3                7       9            1  "
      ]
     },
     "execution_count": 3,
     "metadata": {},
     "output_type": "execute_result"
    }
   ],
   "source": [
    "#desafío 1\n",
    "\n",
    "df= pd.read_csv('worldcup2014.csv')\n",
    "df.head(5)  "
   ]
  },
  {
   "cell_type": "code",
   "execution_count": 33,
   "metadata": {},
   "outputs": [
    {
     "name": "stdout",
     "output_type": "stream",
     "text": [
      "('europe', 0.40625)\n",
      "('southamerica', 0.1875)\n",
      "('africa', 0.15625)\n",
      "('northamerica', 0.125)\n",
      "('asia', 0.125)\n"
     ]
    }
   ],
   "source": [
    "#desafío 2\n",
    "\n",
    "\n",
    "df['juegos_ganados_totales']=np.where(df['juegos_ganados']!=0,1,0)     # se añaden las columna de juegos ganados totales (desafío 5)\n",
    "df['juegos_perdidos_totales']=np.where(df['juegos_perdidos']!=0,1,0) # se añaden las columna de juegos perdidos totales (desafío 5)\n",
    "df['continent'].value_counts('%')\n",
    "df['continent'].value_counts('%').index       # métodos para mostrar los valores individuales y mostrarlos\n",
    "df['continent'].value_counts('%').values  #métodos para mostrar los valores individuales y mostrarlos\n",
    "listdf=(df['continent'].value_counts('%').items()) #para extraer los componentes en una lista\n",
    "\n",
    "for element in listdf:   # con un for each se puede recorrer la lista \n",
    "    print(element)\n",
    "    \n",
    " "
   ]
  },
  {
   "cell_type": "code",
   "execution_count": null,
   "metadata": {},
   "outputs": [],
   "source": [
    "#· El continente con mayor presencia en la muestra corresponde a Europa con un 41 % aprox. del total\n",
    "#· La pp de escoger un equipo asiático al azar es del 13%\n",
    "#· La pp de escoger un equipo africano al azar es del 16%"
   ]
  },
  {
   "cell_type": "code",
   "execution_count": 32,
   "metadata": {},
   "outputs": [],
   "source": [
    "#desafío 3 \n",
    "\n",
    "europedf=df[df['continent'] == \"europe\"]  \n",
    "southamericadf=df[df['continent'] == \"southamerica\"]   \n",
    "africadf=df[df['continent'] == \"africa\"]  \n",
    "northamericadf=df[df['continent'] == \"northamerica\"]  \n",
    "asiadf=df[df['continent'] == \"asia\"]  "
   ]
  },
  {
   "cell_type": "code",
   "execution_count": 22,
   "metadata": {},
   "outputs": [
    {
     "name": "stdout",
     "output_type": "stream",
     "text": [
      "             team     continent group  group_pos  cantidad_juegos  \\\n",
      "1          Mexico  northamerica     A          2                3   \n",
      "12     Costa Rica  northamerica     D          1                3   \n",
      "19       Honduras  northamerica     E          4                3   \n",
      "25  United States  northamerica     G          2                3   \n",
      "\n",
      "    juegos_ganados  juegos_empatados  juegos_perdidos  goles_favor  \\\n",
      "1                2                 1                0            4   \n",
      "12               2                 1                0            4   \n",
      "19               0                 0                3            1   \n",
      "25               1                 1                1            4   \n",
      "\n",
      "    goles_contra goles_diferencia  puntos  clasificado  \n",
      "1              1                3       7            1  \n",
      "12             1                3       7            1  \n",
      "19             8               −7       0            0  \n",
      "25             4                0       4            1  \n"
     ]
    }
   ],
   "source": [
    " print(northamericadf)"
   ]
  },
  {
   "cell_type": "code",
   "execution_count": 40,
   "metadata": {},
   "outputs": [
    {
     "name": "stdout",
     "output_type": "stream",
     "text": [
      "0    0.538462\n",
      "1    0.461538\n",
      "Name: clasificado, dtype: float64 europe\n",
      "1    0.833333\n",
      "0    0.166667\n",
      "Name: clasificado, dtype: float64 southamerica\n",
      "0    0.6\n",
      "1    0.4\n",
      "Name: clasificado, dtype: float64 africa\n",
      "1    0.75\n",
      "0    0.25\n",
      "Name: clasificado, dtype: float64 northamerica\n",
      "0    1.0\n",
      "Name: clasificado, dtype: float64 asia\n"
     ]
    }
   ],
   "source": [
    "#desafío 4\n",
    "\n",
    "continentes=[europedf,southamericadf,africadf,northamericadf,asiadf]\n",
    "for i in continentes:\n",
    "    print (i['clasificado'].value_counts('%'), i['continent'].unique()[0] )\n",
    "            \n",
    "        \n",
    "  # al aplicar el método unique devuelve una lista y en el INDEX [0] están los nombres\n",
    "   \n",
    " \n",
    "    \n",
    "     \n",
    "        \n",
    "        \n",
    "    \n",
    "\n",
    "\n",
    "    \n",
    "    \n",
    "    \n",
    "   \n"
   ]
  },
  {
   "cell_type": "code",
   "execution_count": null,
   "metadata": {},
   "outputs": [],
   "source": [
    "#¿Cuál fue la probabilidad de que un país asiático pase a la siguiente ronda?\n",
    "# La probabilidad es 0\n",
    "#¿Cuáles fueron los dos continentes que tuvieron la mayor probabilidad de clasificar?\n",
    "# Southamerica con una probabilidad de 83 % y Northamerica con una probabilidad de 75 %\n",
    "#¿Cuál fue la probabilidad de no clasificar un país europeo?\n",
    "# La probabilidad de no clasificar es de 54 %\n"
   ]
  },
  {
   "cell_type": "code",
   "execution_count": 88,
   "metadata": {},
   "outputs": [
    {
     "name": "stdout",
     "output_type": "stream",
     "text": [
      "--------- Juegos Ganados--------\n",
      "1    0.846154\n",
      "0    0.153846\n",
      "Name: juegos_ganados_totales, dtype: float64 europe\n",
      "1    1.0\n",
      "Name: juegos_ganados_totales, dtype: float64 southamerica\n",
      "1    0.6\n",
      "0    0.4\n",
      "Name: juegos_ganados_totales, dtype: float64 africa\n",
      "1    0.75\n",
      "0    0.25\n",
      "Name: juegos_ganados_totales, dtype: float64 northamerica\n",
      "0    1.0\n",
      "Name: juegos_ganados_totales, dtype: float64 asia\n",
      "\n",
      "\n",
      "--------- Juegos Perdidos-------\n",
      "1    0.692308\n",
      "0    0.307692\n",
      "Name: juegos_perdidos_totales, dtype: float64 europe\n",
      "1    0.5\n",
      "0    0.5\n",
      "Name: juegos_perdidos_totales, dtype: float64 southamerica\n",
      "1    1.0\n",
      "Name: juegos_perdidos_totales, dtype: float64 africa\n",
      "1    0.5\n",
      "0    0.5\n",
      "Name: juegos_perdidos_totales, dtype: float64 northamerica\n",
      "1    1.0\n",
      "Name: juegos_perdidos_totales, dtype: float64 asia\n"
     ]
    }
   ],
   "source": [
    "#desafío 5 : refactorización \n",
    "\n",
    "    \n",
    " # 1 agregamos con npwhere una nueva columna al df original   \n",
    "\n",
    "# df['juegos_ganados_totales']=np.where(df['juegos_ganados']!=0,1,0) (se agrego más arriba)\n",
    "\n",
    " # 2 refactorizamos el código original columna al df original  \n",
    "    \n",
    "print(\"--------- Juegos Ganados--------\")  \n",
    "for d  in [europedf,southamericadf,africadf,northamericadf,asiadf]:\n",
    "    print(d['juegos_ganados_totales'].value_counts('%'),d['continent'].unique()[0])\n",
    "    \n",
    "print(\"\\n\")\n",
    " # 3 agregamos con npwhere una nueva columna al df original   \n",
    "    \n",
    "# df['juegos_perdidos_totales']=np.where(df['juegos_perdidos']!=0,1,0) (se agrego más arriba)\n",
    "\n",
    " # 4 aplicamos la misma iteración pero esta vez para calcular los juegos perdidos\n",
    "    \n",
    "print(\"--------- Juegos Perdidos-------\")\n",
    "for f  in [europedf,southamericadf,africadf,northamericadf,asiadf]:\n",
    "    print(f['juegos_perdidos_totales'].value_counts('%'),f['continent'].unique()[0])\n",
    "  \n"
   ]
  },
  {
   "cell_type": "code",
   "execution_count": 78,
   "metadata": {},
   "outputs": [],
   "source": [
    "# ¿Qué continente tuvo una mayor probabilidad de ganar juegos?\n",
    "#· El continente con mayor probabilidad de ganar juegos  es Southamerica, donde la probabilidad es 1, esto significa que todos los equipos sudaméricanos al menos ganaron un juego\n",
    "\n",
    "# ¿Qué continente presentó un nivel similar entre juegos ganados y perdidos?\n",
    "# Sudamérica y Nortemeamérica, con la segunda iteración nos da cuenta que ambos tienen la misma probabilidad de ganar o perder un juego (50 %)\n",
    "#Utilize el código para el caso de juegos perdidos y analize el continente con una mayor probabilidad de perder.\n",
    "# Los continentes con la mayor probabilidad de perder son Africa y Asia, donde la probabilidad de perder algún partido es 1, lo que significa que...\n",
    "# ... los países que conforman éstos continentes al menos perdieron alguna vez. \n",
    "\n",
    "\n",
    "\n"
   ]
  },
  {
   "cell_type": "code",
   "execution_count": null,
   "metadata": {},
   "outputs": [],
   "source": []
  }
 ],
 "metadata": {
  "kernelspec": {
   "display_name": "Python 3",
   "language": "python",
   "name": "python3"
  },
  "language_info": {
   "codemirror_mode": {
    "name": "ipython",
    "version": 3
   },
   "file_extension": ".py",
   "mimetype": "text/x-python",
   "name": "python",
   "nbconvert_exporter": "python",
   "pygments_lexer": "ipython3",
   "version": "3.7.3"
  }
 },
 "nbformat": 4,
 "nbformat_minor": 2
}
