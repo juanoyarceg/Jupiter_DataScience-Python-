{
 "cells": [
  {
   "cell_type": "markdown",
   "metadata": {},
   "source": [
    "## Desafío 1: Genere una submuestra de casos"
   ]
  },
  {
   "cell_type": "code",
   "execution_count": 306,
   "metadata": {},
   "outputs": [
    {
     "data": {
      "text/html": [
       "<div>\n",
       "<style scoped>\n",
       "    .dataframe tbody tr th:only-of-type {\n",
       "        vertical-align: middle;\n",
       "    }\n",
       "\n",
       "    .dataframe tbody tr th {\n",
       "        vertical-align: top;\n",
       "    }\n",
       "\n",
       "    .dataframe thead th {\n",
       "        text-align: right;\n",
       "    }\n",
       "</style>\n",
       "<table border=\"1\" class=\"dataframe\">\n",
       "  <thead>\n",
       "    <tr style=\"text-align: right;\">\n",
       "      <th></th>\n",
       "      <th>undp_hdi</th>\n",
       "      <th>ccodealp</th>\n",
       "      <th>ht_region</th>\n",
       "      <th>gle_cgdpc</th>\n",
       "      <th>imf_pop</th>\n",
       "      <th>cname</th>\n",
       "      <th>wef_imort</th>\n",
       "      <th>who_alc2000</th>\n",
       "      <th>who_tobt</th>\n",
       "      <th>wdi_exph</th>\n",
       "      <th>region_recod</th>\n",
       "    </tr>\n",
       "  </thead>\n",
       "  <tbody>\n",
       "    <tr>\n",
       "      <th>153</th>\n",
       "      <td>0.781</td>\n",
       "      <td>SYC</td>\n",
       "      <td>4</td>\n",
       "      <td>9583.32030</td>\n",
       "      <td>0.090</td>\n",
       "      <td>Seychelles</td>\n",
       "      <td>11.200000</td>\n",
       "      <td>9.72</td>\n",
       "      <td>26.700001</td>\n",
       "      <td>3.369817</td>\n",
       "      <td>SubSaharian</td>\n",
       "    </tr>\n",
       "    <tr>\n",
       "      <th>178</th>\n",
       "      <td>0.688</td>\n",
       "      <td>TKM</td>\n",
       "      <td>1</td>\n",
       "      <td>13217.39000</td>\n",
       "      <td>NaN</td>\n",
       "      <td>Turkmenistan</td>\n",
       "      <td>NaN</td>\n",
       "      <td>2.90</td>\n",
       "      <td>NaN</td>\n",
       "      <td>2.067386</td>\n",
       "      <td>EastEurope</td>\n",
       "    </tr>\n",
       "    <tr>\n",
       "      <th>89</th>\n",
       "      <td>NaN</td>\n",
       "      <td>PRK</td>\n",
       "      <td>6</td>\n",
       "      <td>1727.81990</td>\n",
       "      <td>NaN</td>\n",
       "      <td>Korea, North</td>\n",
       "      <td>NaN</td>\n",
       "      <td>3.35</td>\n",
       "      <td>NaN</td>\n",
       "      <td>NaN</td>\n",
       "      <td>EastAsia</td>\n",
       "    </tr>\n",
       "    <tr>\n",
       "      <th>189</th>\n",
       "      <td>0.697</td>\n",
       "      <td>UZB</td>\n",
       "      <td>1</td>\n",
       "      <td>7370.72020</td>\n",
       "      <td>29.746</td>\n",
       "      <td>Uzbekistan</td>\n",
       "      <td>NaN</td>\n",
       "      <td>2.83</td>\n",
       "      <td>13.300000</td>\n",
       "      <td>5.838522</td>\n",
       "      <td>EastEurope</td>\n",
       "    </tr>\n",
       "    <tr>\n",
       "      <th>154</th>\n",
       "      <td>0.431</td>\n",
       "      <td>SLE</td>\n",
       "      <td>4</td>\n",
       "      <td>979.95001</td>\n",
       "      <td>6.232</td>\n",
       "      <td>Sierra Leone</td>\n",
       "      <td>117.400002</td>\n",
       "      <td>3.78</td>\n",
       "      <td>34.400002</td>\n",
       "      <td>11.089902</td>\n",
       "      <td>SubSaharian</td>\n",
       "    </tr>\n",
       "  </tbody>\n",
       "</table>\n",
       "</div>"
      ],
      "text/plain": [
       "     undp_hdi ccodealp  ht_region    gle_cgdpc  imf_pop         cname  \\\n",
       "153     0.781      SYC          4   9583.32030    0.090    Seychelles   \n",
       "178     0.688      TKM          1  13217.39000      NaN  Turkmenistan   \n",
       "89        NaN      PRK          6   1727.81990      NaN  Korea, North   \n",
       "189     0.697      UZB          1   7370.72020   29.746    Uzbekistan   \n",
       "154     0.431      SLE          4    979.95001    6.232  Sierra Leone   \n",
       "\n",
       "      wef_imort  who_alc2000   who_tobt   wdi_exph region_recod  \n",
       "153   11.200000         9.72  26.700001   3.369817  SubSaharian  \n",
       "178         NaN         2.90        NaN   2.067386   EastEurope  \n",
       "89          NaN         3.35        NaN        NaN     EastAsia  \n",
       "189         NaN         2.83  13.300000   5.838522   EastEurope  \n",
       "154  117.400002         3.78  34.400002  11.089902  SubSaharian  "
      ]
     },
     "execution_count": 306,
     "metadata": {},
     "output_type": "execute_result"
    }
   ],
   "source": [
    "import pandas as pd\n",
    "import numpy as np\n",
    "import matplotlib.pyplot as plt\n",
    "\n",
    "np.random.seed(3402) # Semilla aleatoria digitos del RUT\n",
    "df= pd.read_csv('qog_std_cs_jan18.csv')\n",
    "mediandf=int(df.shape[0]/2)  # 50 % de la muestra, es decir 50 % de los registros\n",
    "subdf=df[['undp_hdi','ccodealp','ht_region','gle_cgdpc','imf_pop','cname','wef_imort', \n",
    "          'who_alc2000', 'who_tobt','wdi_exph']].sample( mediandf ) # submuestra con las variables solicitadas\n",
    "\n",
    "subdf['region_recod']= df['ht_region'].replace([1,2,3,4,5,6,7,8,9,10],  # recodificación de las regiones\n",
    " ['EastEurope','Latam','NorthAfrica','SubSaharian','WesternDem',\n",
    " 'EastAsia','SouthEastAsia','SouthAsia','Pacific','Caribbean'])\n",
    "subdf.head()\n"
   ]
  },
  {
   "cell_type": "markdown",
   "metadata": {},
   "source": [
    "## Desafío 2"
   ]
  },
  {
   "cell_type": "code",
   "execution_count": 228,
   "metadata": {},
   "outputs": [],
   "source": [
    "def descriptives_analisis (dataframe, var):\n",
    "    \"\"\"\n",
    "    Definicion: Esta función entrega las estadísticas descriptivas o frecuencias de una variable de un dataframe, dependiendo\n",
    "    de si ésta es numérica o no numérica\n",
    "    \n",
    "    Parametros: dataframe corresponde al dataframe a analizar, var corresponde a la columna del dataframe que se desea analizar\n",
    "    \n",
    "    Salida: Retorna una serie con las estadísticas descriptivas o frecuencia dependiendo del tipo de variable analizada\n",
    "    \"\"\"\n",
    "    if dataframe[var].dtypes != 'object' :    # object debe ser string, es decir ''\n",
    "        descriptives = dataframe[var].describe()  #dataframe [] esto retorna una serie, si lo hacemos [[]] retorna una dataframe\n",
    "    else:\n",
    "        descriptives=dataframe[var].value_counts()\n",
    "    return descriptives\n",
    "\n"
   ]
  },
  {
   "cell_type": "code",
   "execution_count": 234,
   "metadata": {},
   "outputs": [
    {
     "data": {
      "text/plain": [
       "SubSaharian      29\n",
       "EastEurope       15\n",
       "Latam            11\n",
       "WesternDem       11\n",
       "NorthAfrica       8\n",
       "Caribbean         6\n",
       "SouthEastAsia     5\n",
       "Pacific           5\n",
       "EastAsia          4\n",
       "SouthAsia         3\n",
       "Name: region_recod, dtype: int64"
      ]
     },
     "execution_count": 234,
     "metadata": {},
     "output_type": "execute_result"
    }
   ],
   "source": [
    "descriptives_analisis(subdf,'region_recod') "
   ]
  },
  {
   "cell_type": "code",
   "execution_count": 231,
   "metadata": {},
   "outputs": [
    {
     "data": {
      "text/plain": [
       "count        96.000000\n",
       "mean      13531.255502\n",
       "std       16056.052174\n",
       "min         324.160000\n",
       "25%        2670.137500\n",
       "50%        9057.814950\n",
       "75%       17065.470750\n",
       "max      104049.440000\n",
       "Name: gle_cgdpc, dtype: float64"
      ]
     },
     "execution_count": 231,
     "metadata": {},
     "output_type": "execute_result"
    }
   ],
   "source": [
    "descriptives_analisis(subdf,'gle_cgdpc')"
   ]
  },
  {
   "cell_type": "code",
   "execution_count": 232,
   "metadata": {},
   "outputs": [
    {
     "data": {
      "text/plain": [
       "count    92.000000\n",
       "mean      0.687750\n",
       "std       0.160097\n",
       "min       0.351000\n",
       "25%       0.569250\n",
       "50%       0.728500\n",
       "75%       0.795000\n",
       "max       0.938000\n",
       "Name: undp_hdi, dtype: float64"
      ]
     },
     "execution_count": 232,
     "metadata": {},
     "output_type": "execute_result"
    }
   ],
   "source": [
    "descriptives_analisis(subdf,'undp_hdi')"
   ]
  },
  {
   "cell_type": "code",
   "execution_count": 233,
   "metadata": {},
   "outputs": [
    {
     "data": {
      "text/plain": [
       "count     72.000000\n",
       "mean      25.709597\n",
       "std       41.631693\n",
       "min        0.012000\n",
       "25%        2.034000\n",
       "50%        7.667000\n",
       "75%       33.833499\n",
       "max      202.768997\n",
       "Name: imf_pop, dtype: float64"
      ]
     },
     "execution_count": 233,
     "metadata": {},
     "output_type": "execute_result"
    }
   ],
   "source": [
    "descriptives_analisis(subdf,'imf_pop')"
   ]
  },
  {
   "cell_type": "markdown",
   "metadata": {},
   "source": [
    "* Comparé con dos compañeros ylos valores son similares, varían ligeramente dependiendo del número de recuentos, pero en general tienen bastante coincidencia"
   ]
  },
  {
   "cell_type": "markdown",
   "metadata": {},
   "source": [
    "## Desafío 3"
   ]
  },
  {
   "cell_type": "code",
   "execution_count": 251,
   "metadata": {},
   "outputs": [],
   "source": [
    "def samples_lost(dfm, var, print_list= False, pais=False):\n",
    "    '''\n",
    "    Definicion: Esta función entrega los valores perdidos en cantidad y porcentaje, además de una lista y los países respectivos\n",
    "    \n",
    "    Parametros: dfm, dataframe a analizar, var es la variable a analizar, print_list entrega una lista con los valores perdidos en\n",
    "    caso de que este True, pais, entregar la lista correspondiente a los paises en caso de que este True\n",
    "    \n",
    "    Salida: Retorna impresos la cantidad y porcentaje de valores perdidos, también retorna una lista impresa de ellos y la frecuencia\n",
    "    relativa de los países pertenencientes\n",
    "    '''\n",
    "    dan =dfm[var].isna( )\n",
    "    cantidad= dan.values.ravel().sum() \n",
    "    porcentaje=round((dan.values.ravel().sum()/len(dan)*100),3)\n",
    "    if print_list==True:\n",
    "        valores_perdidos=[]\n",
    "        con=0\n",
    "        missing=list(dan)\n",
    "        for i in missing:\n",
    "            if i ==True:\n",
    "                valores_perdidos.append(i)\n",
    "        print (valores_perdidos) \n",
    "    if pais == True:\n",
    "        paises =dfm[dfm[var].isna()]['cname']\n",
    "        print (paises)\n",
    "         \n",
    "    print ('La cantidad de valores perdidos es', cantidad,' y el porcentaje es: ', porcentaje, '%')\n",
    "            \n",
    "        "
   ]
  },
  {
   "cell_type": "code",
   "execution_count": 252,
   "metadata": {},
   "outputs": [
    {
     "name": "stdout",
     "output_type": "stream",
     "text": [
      "[True, True, True, True, True]\n",
      "89         Korea, North\n",
      "148          San Marino\n",
      "129    Marshall Islands\n",
      "119               Nauru\n",
      "37               Taiwan\n",
      "Name: cname, dtype: object\n",
      "La cantidad de valores perdidos es 5  y el porcentaje es:  5.155 %\n"
     ]
    }
   ],
   "source": [
    "samples_lost(subdf,'undp_hdi', True, True)"
   ]
  },
  {
   "cell_type": "code",
   "execution_count": 262,
   "metadata": {},
   "outputs": [
    {
     "name": "stdout",
     "output_type": "stream",
     "text": [
      "undp_hdi\n",
      "[True, True, True, True, True]\n",
      "89         Korea, North\n",
      "148          San Marino\n",
      "129    Marshall Islands\n",
      "119               Nauru\n",
      "37               Taiwan\n",
      "Name: cname, dtype: object\n",
      "La cantidad de valores perdidos es 5  y el porcentaje es:  5.155 %\n",
      "\n",
      " \n",
      "---------------------------------------------------\n",
      "ccodealp\n",
      "[]\n",
      "Series([], Name: cname, dtype: object)\n",
      "La cantidad de valores perdidos es 0  y el porcentaje es:  0.0 %\n",
      "\n",
      " \n",
      "---------------------------------------------------\n",
      "ht_region\n",
      "[]\n",
      "Series([], Name: cname, dtype: object)\n",
      "La cantidad de valores perdidos es 0  y el porcentaje es:  0.0 %\n",
      "\n",
      " \n",
      "---------------------------------------------------\n",
      "gle_cgdpc\n",
      "[True]\n",
      "163    South Sudan\n",
      "Name: cname, dtype: object\n",
      "La cantidad de valores perdidos es 1  y el porcentaje es:  1.031 %\n",
      "\n",
      " \n",
      "---------------------------------------------------\n",
      "imf_pop\n",
      "[True, True, True, True, True, True, True, True, True, True, True, True, True, True, True, True, True, True, True, True, True, True, True, True, True]\n",
      "178                  Turkmenistan\n",
      "89                   Korea, North\n",
      "95                        Lesotho\n",
      "26                        Burundi\n",
      "41     Congo, Democratic Republic\n",
      "125                         Niger\n",
      "55                        Eritrea\n",
      "163                   South Sudan\n",
      "193                        Zambia\n",
      "44                           Cuba\n",
      "73                       Honduras\n",
      "49                       Dominica\n",
      "139                 Guinea-Bissau\n",
      "69                      Guatemala\n",
      "52                    El Salvador\n",
      "5             Antigua and Barbuda\n",
      "145            St Kitts and Nevis\n",
      "19                       Botswana\n",
      "60                       Djibouti\n",
      "50             Dominican Republic\n",
      "63                         Gambia\n",
      "34                           Chad\n",
      "53              Equatorial Guinea\n",
      "151                       Senegal\n",
      "40                          Congo\n",
      "Name: cname, dtype: object\n",
      "La cantidad de valores perdidos es 25  y el porcentaje es:  25.773 %\n",
      "\n",
      " \n",
      "---------------------------------------------------\n",
      "cname\n",
      "[]\n",
      "Series([], Name: cname, dtype: object)\n",
      "La cantidad de valores perdidos es 0  y el porcentaje es:  0.0 %\n",
      "\n",
      " \n",
      "---------------------------------------------------\n",
      "wef_imort\n",
      "[True, True, True, True, True, True, True, True, True, True, True, True, True, True, True, True, True, True, True, True, True, True, True, True]\n",
      "178                     Turkmenistan\n",
      "89                      Korea, North\n",
      "189                       Uzbekistan\n",
      "79                              Iraq\n",
      "125                            Niger\n",
      "55                           Eritrea\n",
      "163                      South Sudan\n",
      "128                       Micronesia\n",
      "10                           Bahamas\n",
      "44                              Cuba\n",
      "148                       San Marino\n",
      "49                          Dominica\n",
      "27                           Belarus\n",
      "139                    Guinea-Bissau\n",
      "130                            Palau\n",
      "5                Antigua and Barbuda\n",
      "145               St Kitts and Nevis\n",
      "129                 Marshall Islands\n",
      "147    St Vincent and the Grenadines\n",
      "122                          Vanuatu\n",
      "60                          Djibouti\n",
      "119                            Nauru\n",
      "53                 Equatorial Guinea\n",
      "40                             Congo\n",
      "Name: cname, dtype: object\n",
      "La cantidad de valores perdidos es 24  y el porcentaje es:  24.742 %\n",
      "\n",
      " \n",
      "---------------------------------------------------\n",
      "who_alc2000\n",
      "[True, True, True, True, True, True, True]\n",
      "163         South Sudan\n",
      "148          San Marino\n",
      "130               Palau\n",
      "129    Marshall Islands\n",
      "112            Mongolia\n",
      "119               Nauru\n",
      "37               Taiwan\n",
      "Name: cname, dtype: object\n",
      "La cantidad de valores perdidos es 7  y el porcentaje es:  7.216 %\n",
      "\n",
      " \n",
      "---------------------------------------------------\n",
      "who_tobt\n",
      "[True, True, True, True, True, True, True, True, True, True, True, True, True, True, True, True, True, True, True, True, True, True, True, True, True, True, True, True, True, True, True, True, True]\n",
      "178                     Turkmenistan\n",
      "89                      Korea, North\n",
      "79                              Iraq\n",
      "26                           Burundi\n",
      "41        Congo, Democratic Republic\n",
      "55                           Eritrea\n",
      "141                            Qatar\n",
      "163                      South Sudan\n",
      "128                       Micronesia\n",
      "10                           Bahamas\n",
      "124                        Nicaragua\n",
      "2                            Algeria\n",
      "148                       San Marino\n",
      "161                         Zimbabwe\n",
      "49                          Dominica\n",
      "139                    Guinea-Bissau\n",
      "170                       Tajikistan\n",
      "69                         Guatemala\n",
      "130                            Palau\n",
      "52                       El Salvador\n",
      "17                           Bolivia\n",
      "5                Antigua and Barbuda\n",
      "145               St Kitts and Nevis\n",
      "114                       Montenegro\n",
      "129                 Marshall Islands\n",
      "147    St Vincent and the Grenadines\n",
      "122                          Vanuatu\n",
      "19                          Botswana\n",
      "60                          Djibouti\n",
      "63                            Gambia\n",
      "37                            Taiwan\n",
      "34                              Chad\n",
      "53                 Equatorial Guinea\n",
      "Name: cname, dtype: object\n",
      "La cantidad de valores perdidos es 33  y el porcentaje es:  34.021 %\n",
      "\n",
      " \n",
      "---------------------------------------------------\n",
      "wdi_exph\n",
      "[True, True]\n",
      "89    Korea, North\n",
      "37          Taiwan\n",
      "Name: cname, dtype: object\n",
      "La cantidad de valores perdidos es 2  y el porcentaje es:  2.062 %\n",
      "\n",
      " \n",
      "---------------------------------------------------\n",
      "region_recod\n",
      "[]\n",
      "Series([], Name: cname, dtype: object)\n",
      "La cantidad de valores perdidos es 0  y el porcentaje es:  0.0 %\n",
      "\n",
      " \n",
      "---------------------------------------------------\n",
      "None\n"
     ]
    }
   ],
   "source": [
    "# con un ciclo se puede acceder a los valores de cada serie en dataframe\n",
    "var=''\n",
    "for var in subdf:\n",
    "    print(var)\n",
    "    variables= samples_lost(subdf,var, True, True)\n",
    "    print('\\n ')\n",
    "    print('---------------------------------------------------')\n",
    "print(variables)\n",
    " \n",
    "    "
   ]
  },
  {
   "cell_type": "markdown",
   "metadata": {},
   "source": [
    "* Según los valores anteriores las variables who_tobt(34.021 %), imf_pop (25.773 %) y wef_imort(24.742 %) son las que presentan mayores porcentajes de valores perdidos"
   ]
  },
  {
   "cell_type": "markdown",
   "metadata": {},
   "source": [
    "## Desafío 4 "
   ]
  },
  {
   "cell_type": "code",
   "execution_count": 290,
   "metadata": {},
   "outputs": [],
   "source": [
    "def histograma(dataframe, var, sample_mean=False, true_mean=False):\n",
    "    '''\n",
    "    Definicion: Esta función gráfica un histograma y entrega las medias de la muestra y del dataframe completo\n",
    "    \n",
    "    Parametros: dataframe: recibe el dataframe a analizar, var corresponde a la variable del dataframe, sample_mean: booleano que  \n",
    "    corresponde al gráfico de la media muestral en la variable a analizar; true_mean devuelve la media del dataframe original, sin\n",
    "    selección de muestras\n",
    "    \n",
    "    Salida: Retorna impresos la cantidad y porcentaje de valores perdidos, también retorna una lista impresa de ellos y la frecuencia\n",
    "    relativa de los países pertenencientes\n",
    "    '''\n",
    "    clean= dataframe[var].dropna() #limpiezadedatos\n",
    "    plt.hist(clean, color='grey', alpha=.9)\n",
    "    plt.title(var)\n",
    "\n",
    "    if sample_mean is True:\n",
    "        plt.axvline(np.mean(clean), color='black',alpha=.9,linestyle='--')\n",
    "    if true_mean is True:\n",
    "        plt.axvline(np.mean(df[var]), color='tomato')"
   ]
  },
  {
   "cell_type": "code",
   "execution_count": 291,
   "metadata": {},
   "outputs": [
    {
     "data": {
      "image/png": "[encoded data removed]",
      "text/plain": [
       "<Figure size 432x288 with 1 Axes>"
      ]
     },
     "metadata": {
      "needs_background": "light"
     },
     "output_type": "display_data"
    }
   ],
   "source": [
    "histograma(subdf,'undp_hdi', True, True)"
   ]
  },
  {
   "cell_type": "code",
   "execution_count": 292,
   "metadata": {},
   "outputs": [
    {
     "data": {
      "image/png": "[encoded data removed]",
      "text/plain": [
       "<Figure size 432x288 with 1 Axes>"
      ]
     },
     "metadata": {
      "needs_background": "light"
     },
     "output_type": "display_data"
    }
   ],
   "source": [
    "histograma(subdf,'wdi_exph', True, True)"
   ]
  },
  {
   "cell_type": "code",
   "execution_count": 293,
   "metadata": {},
   "outputs": [
    {
     "data": {
      "image/png": "[encoded data removed]",
      "text/plain": [
       "<Figure size 432x288 with 1 Axes>"
      ]
     },
     "metadata": {
      "needs_background": "light"
     },
     "output_type": "display_data"
    }
   ],
   "source": [
    "histograma(subdf,'imf_pop', True, True)"
   ]
  },
  {
   "cell_type": "code",
   "execution_count": 294,
   "metadata": {},
   "outputs": [
    {
     "data": {
      "image/png": "[encoded data removed]",
      "text/plain": [
       "<Figure size 432x288 with 1 Axes>"
      ]
     },
     "metadata": {
      "needs_background": "light"
     },
     "output_type": "display_data"
    }
   ],
   "source": [
    "histograma(subdf,'gle_cgdpc', True, True)"
   ]
  },
  {
   "cell_type": "markdown",
   "metadata": {},
   "source": [
    "* Para las variables analizadas ninguna media de la submuestra es mayor a la media del dataframe, o son ligeramente menores \n",
    "  o iguales como en el caso de la variable imf_pop."
   ]
  },
  {
   "cell_type": "markdown",
   "metadata": {},
   "source": [
    "## Desafío 5"
   ]
  },
  {
   "cell_type": "code",
   "execution_count": 355,
   "metadata": {},
   "outputs": [],
   "source": [
    "def dotplot(df, plot_var, plot_by, global_stat = False, statistic = 'mean'):\n",
    "    '''\n",
    "    Definicion: Esta función gráfica un dotplot(gráfico de puntos) de una variable numérica ordenada por otra variable, de un data\n",
    "    set definido, también tiene la opción de graficar la mediana o la media global de la variable \n",
    "    \n",
    "    Parametros: dataframe: recibe el dataframe a analizar, plot_var corresponde a la variable que se graficará, plot_by corresponde\n",
    "    a la variable que se usará para ordenar y agrupar plot_var, global_stat es un booleano que genera una estadística de la variable\n",
    "    global, statistic es un parametro para definir si se calculará la mediana o la media global\n",
    "    \n",
    "    Salida: arroja un dotplot, con el calculo de las media o medianas de la variable del dataset, con la opción de agregar una línea\n",
    "    de tendencia de la media o de la mediana global\n",
    "    '''\n",
    "    df_temp = df.loc[:, [plot_by, plot_var]]   #1. selección de las series del DF\n",
    "    \n",
    "    if statistic is 'median':                       # 2. Condicional del calculo de la media o mediana\n",
    "        df_temp_descriptive = df_temp.groupby(plot_by)[plot_var].median()\n",
    "    if statistic is 'mean':\n",
    "        df_temp_descriptive  = df_temp.groupby(plot_by)[plot_var].mean()\n",
    "   \n",
    "    por=' ordenado por '                        #3. Nombre de los ejees\n",
    "    plt.title(plot_var + por + plot_by)\n",
    "    plt.xlabel(plot_var)\n",
    "    plt.ylabel(plot_by)\n",
    "    \n",
    "    plt.plot(df_temp_descriptive.values, df_temp_descriptive.index, 'o', color='black') #4. Gráfica principal\n",
    "    plt.grid(True, linestyle='-.') # 5. datos de la grilla agregar la grilla\n",
    "    plt.tick_params(labelcolor='b', labelsize='medium', width=3) # 6. parametros de los ejes\n",
    "\n",
    "    if global_stat is True and  statistic is 'mean':          #7. Gráfica de la media o mediana global\n",
    "        plt.axvline(df[plot_var].mean(), color='tomato',lw=2, linestyle='--')\n",
    "    if global_stat is True and statistic is 'median':\n",
    "        plt.axvline(df[plot_var].median(), color='blue', lw=2, linestyle='--')\n"
   ]
  },
  {
   "cell_type": "code",
   "execution_count": 356,
   "metadata": {},
   "outputs": [
    {
     "data": {
      "image/png": "[encoded data removed]",
      "text/plain": [
       "<Figure size 432x288 with 1 Axes>"
      ]
     },
     "metadata": {
      "needs_background": "light"
     },
     "output_type": "display_data"
    }
   ],
   "source": [
    "dotplot(subdf,'undp_hdi','region_recod',True,'mean')\n"
   ]
  },
  {
   "cell_type": "code",
   "execution_count": 357,
   "metadata": {},
   "outputs": [
    {
     "data": {
      "image/png": "[encoded data removed]",
      "text/plain": [
       "<Figure size 432x288 with 1 Axes>"
      ]
     },
     "metadata": {
      "needs_background": "light"
     },
     "output_type": "display_data"
    }
   ],
   "source": [
    "dotplot(subdf,'undp_hdi','region_recod',True,'median')"
   ]
  },
  {
   "cell_type": "code",
   "execution_count": 358,
   "metadata": {},
   "outputs": [
    {
     "data": {
      "image/png": "[encoded data removed]",
      "text/plain": [
       "<Figure size 432x288 with 1 Axes>"
      ]
     },
     "metadata": {
      "needs_background": "light"
     },
     "output_type": "display_data"
    }
   ],
   "source": [
    "dotplot(subdf,'wdi_exph','region_recod',True,'mean')"
   ]
  },
  {
   "cell_type": "code",
   "execution_count": 359,
   "metadata": {},
   "outputs": [
    {
     "data": {
      "image/png": "[encoded data removed]",
      "text/plain": [
       "<Figure size 432x288 with 1 Axes>"
      ]
     },
     "metadata": {
      "needs_background": "light"
     },
     "output_type": "display_data"
    }
   ],
   "source": [
    "dotplot(subdf,'gle_cgdpc','region_recod',True,'mean')"
   ]
  },
  {
   "cell_type": "markdown",
   "metadata": {},
   "source": [
    "## Desafío 6"
   ]
  },
  {
   "cell_type": "code",
   "execution_count": null,
   "metadata": {},
   "outputs": [],
   "source": [
    "subdf.to_csv('subsample_JO_demo.csv') "
   ]
  }
 ],
 "metadata": {
  "kernelspec": {
   "display_name": "Python 3",
   "language": "python",
   "name": "python3"
  },
  "language_info": {
   "codemirror_mode": {
    "name": "ipython",
    "version": 3
   },
   "file_extension": ".py",
   "mimetype": "text/x-python",
   "name": "python",
   "nbconvert_exporter": "python",
   "pygments_lexer": "ipython3",
   "version": "3.7.3"
  }
 },
 "nbformat": 4,
 "nbformat_minor": 2
}
