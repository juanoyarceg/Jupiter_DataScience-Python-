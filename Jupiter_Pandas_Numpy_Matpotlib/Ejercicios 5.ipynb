{
 "cells": [
  {
   "cell_type": "code",
   "execution_count": 1,
   "metadata": {},
   "outputs": [],
   "source": [
    "import matplotlib.pyplot as plt\n",
    "import pandas as pd\n",
    "import numpy as np\n",
    "import scipy.stats as stats"
   ]
  },
  {
   "cell_type": "markdown",
   "metadata": {},
   "source": [
    "## 1. Importe un csv desde internet\n",
    "Utilice la base de datos de un compañero creada en la sesión pasada.\n"
   ]
  },
  {
   "cell_type": "code",
   "execution_count": 2,
   "metadata": {},
   "outputs": [
    {
     "data": {
      "text/html": [
       "<div>\n",
       "<style scoped>\n",
       "    .dataframe tbody tr th:only-of-type {\n",
       "        vertical-align: middle;\n",
       "    }\n",
       "\n",
       "    .dataframe tbody tr th {\n",
       "        vertical-align: top;\n",
       "    }\n",
       "\n",
       "    .dataframe thead th {\n",
       "        text-align: right;\n",
       "    }\n",
       "</style>\n",
       "<table border=\"1\" class=\"dataframe\">\n",
       "  <thead>\n",
       "    <tr style=\"text-align: right;\">\n",
       "      <th></th>\n",
       "      <th>Unnamed: 0</th>\n",
       "      <th>undp_hdi</th>\n",
       "      <th>ccodealp</th>\n",
       "      <th>ht_region</th>\n",
       "      <th>gle_cgdpc</th>\n",
       "      <th>imf_pop</th>\n",
       "      <th>wef_imort</th>\n",
       "      <th>who_alc2000</th>\n",
       "      <th>who_tobt</th>\n",
       "      <th>wdi_exph</th>\n",
       "      <th>region_recod</th>\n",
       "    </tr>\n",
       "  </thead>\n",
       "  <tbody>\n",
       "    <tr>\n",
       "      <th>0</th>\n",
       "      <td>73</td>\n",
       "      <td>0.623</td>\n",
       "      <td>HND</td>\n",
       "      <td>2</td>\n",
       "      <td>3303.1399</td>\n",
       "      <td>NaN</td>\n",
       "      <td>19.4</td>\n",
       "      <td>2.87</td>\n",
       "      <td>18.900000</td>\n",
       "      <td>8.722680</td>\n",
       "      <td>LatAm</td>\n",
       "    </tr>\n",
       "    <tr>\n",
       "      <th>1</th>\n",
       "      <td>100</td>\n",
       "      <td>0.846</td>\n",
       "      <td>LTU</td>\n",
       "      <td>1</td>\n",
       "      <td>17559.7500</td>\n",
       "      <td>2.932</td>\n",
       "      <td>4.4</td>\n",
       "      <td>15.19</td>\n",
       "      <td>30.100000</td>\n",
       "      <td>6.552117</td>\n",
       "      <td>EastEurope</td>\n",
       "    </tr>\n",
       "    <tr>\n",
       "      <th>2</th>\n",
       "      <td>176</td>\n",
       "      <td>0.723</td>\n",
       "      <td>TUN</td>\n",
       "      <td>3</td>\n",
       "      <td>6912.2798</td>\n",
       "      <td>NaN</td>\n",
       "      <td>13.8</td>\n",
       "      <td>1.39</td>\n",
       "      <td>NaN</td>\n",
       "      <td>7.003858</td>\n",
       "      <td>NorthAfrica</td>\n",
       "    </tr>\n",
       "    <tr>\n",
       "      <th>3</th>\n",
       "      <td>10</td>\n",
       "      <td>0.790</td>\n",
       "      <td>BHS</td>\n",
       "      <td>10</td>\n",
       "      <td>21672.0290</td>\n",
       "      <td>0.356</td>\n",
       "      <td>NaN</td>\n",
       "      <td>9.45</td>\n",
       "      <td>NaN</td>\n",
       "      <td>7.742365</td>\n",
       "      <td>Caribean</td>\n",
       "    </tr>\n",
       "    <tr>\n",
       "      <th>4</th>\n",
       "      <td>67</td>\n",
       "      <td>0.865</td>\n",
       "      <td>GRC</td>\n",
       "      <td>5</td>\n",
       "      <td>25295.2700</td>\n",
       "      <td>10.927</td>\n",
       "      <td>4.1</td>\n",
       "      <td>7.53</td>\n",
       "      <td>43.400002</td>\n",
       "      <td>8.084267</td>\n",
       "      <td>WesternDem</td>\n",
       "    </tr>\n",
       "  </tbody>\n",
       "</table>\n",
       "</div>"
      ],
      "text/plain": [
       "   Unnamed: 0  undp_hdi ccodealp  ht_region   gle_cgdpc  imf_pop  wef_imort  \\\n",
       "0          73     0.623      HND          2   3303.1399      NaN       19.4   \n",
       "1         100     0.846      LTU          1  17559.7500    2.932        4.4   \n",
       "2         176     0.723      TUN          3   6912.2798      NaN       13.8   \n",
       "3          10     0.790      BHS         10  21672.0290    0.356        NaN   \n",
       "4          67     0.865      GRC          5  25295.2700   10.927        4.1   \n",
       "\n",
       "   who_alc2000   who_tobt  wdi_exph region_recod  \n",
       "0         2.87  18.900000  8.722680        LatAm  \n",
       "1        15.19  30.100000  6.552117   EastEurope  \n",
       "2         1.39        NaN  7.003858  NorthAfrica  \n",
       "3         9.45        NaN  7.742365     Caribean  \n",
       "4         7.53  43.400002  8.084267   WesternDem  "
      ]
     },
     "execution_count": 2,
     "metadata": {},
     "output_type": "execute_result"
    }
   ],
   "source": [
    "df = pd.read_csv('subsample_fsf_demo.csv')\n",
    "\n",
    "df.head(5)"
   ]
  },
  {
   "cell_type": "markdown",
   "metadata": {},
   "source": [
    "## 2. Importe su conjunto de funciones\n",
    "\n",
    "1. Genere un archivo ancilliary_funcs.py para guardar las funciones creadas en la sesión pasada e impórtelo.\n",
    "2. Utilice las funciones creadas para inspeccionar la cantidad de casos perdidos de la muestra de su compañero.\n"
   ]
  },
  {
   "cell_type": "code",
   "execution_count": 3,
   "metadata": {},
   "outputs": [],
   "source": [
    "from ancilliary_funcs import lost_data"
   ]
  },
  {
   "cell_type": "markdown",
   "metadata": {},
   "source": [
    "## 3. Estime el puntaje Z\n",
    "Estime el puntaze Z para las 10 primeras y últimas observaciones de las variables con una menor cantidad de datos perdidos\n",
    "\n",
    "1. Genere una nueva columna en la tabla de datos mediante funciones vectorizadas. Recuerde que para calcular el puntaje z de una observación se utiliza la fórmula: .\n",
    "2. Para ordenar los valores pueden utilzar la función sort_values del DataFrame analizado. Lean la documentación asociada al argumento by . Para evitar conflictos en la sobreescritura\n",
    "3. Asegúrense de eliminar las observaciones que tengan valores perdidos con dropna . Lean la documentación asociada al método subset .\n",
    "4. Seleccionen las primeras y últimas 10 observaciones de la base reordenada. ¿Qué características en común se encuentran?\n",
    "\n",
    "**Por el lado de las desviaciones positivas, el dato mas lejano supera las 3 desviaciones estandar por lo que hay evidencia para sugerir datos extremos a un alto porcentaje de confianza**\n",
    "\n",
    "**Por el otro lado, los datos que estan a mayor distancia de la media no supera 1 desviaciones estandard de la media. \n",
    "No hay sospechas de que hay datos extremos, o que la variable undp_hdi no corresponde a variables aleatorias i.i.d.**"
   ]
  },
  {
   "cell_type": "code",
   "execution_count": 13,
   "metadata": {},
   "outputs": [
    {
     "data": {
      "text/html": [
       "<div>\n",
       "<style scoped>\n",
       "    .dataframe tbody tr th:only-of-type {\n",
       "        vertical-align: middle;\n",
       "    }\n",
       "\n",
       "    .dataframe tbody tr th {\n",
       "        vertical-align: top;\n",
       "    }\n",
       "\n",
       "    .dataframe thead th {\n",
       "        text-align: right;\n",
       "    }\n",
       "</style>\n",
       "<table border=\"1\" class=\"dataframe\">\n",
       "  <thead>\n",
       "    <tr style=\"text-align: right;\">\n",
       "      <th></th>\n",
       "      <th>Unnamed: 0</th>\n",
       "      <th>undp_hdi</th>\n",
       "      <th>ccodealp</th>\n",
       "      <th>ht_region</th>\n",
       "      <th>gle_cgdpc</th>\n",
       "      <th>imf_pop</th>\n",
       "      <th>wef_imort</th>\n",
       "      <th>who_alc2000</th>\n",
       "      <th>who_tobt</th>\n",
       "      <th>wdi_exph</th>\n",
       "      <th>region_recod</th>\n",
       "      <th>z</th>\n",
       "      <th>z_score</th>\n",
       "    </tr>\n",
       "  </thead>\n",
       "  <tbody>\n",
       "    <tr>\n",
       "      <th>33</th>\n",
       "      <td>139</td>\n",
       "      <td>0.421</td>\n",
       "      <td>GNB</td>\n",
       "      <td>4</td>\n",
       "      <td>961.26001</td>\n",
       "      <td>NaN</td>\n",
       "      <td>NaN</td>\n",
       "      <td>3.57</td>\n",
       "      <td>NaN</td>\n",
       "      <td>5.593137</td>\n",
       "      <td>SubSaharian</td>\n",
       "      <td>-1.802041</td>\n",
       "      <td>-0.839666</td>\n",
       "    </tr>\n",
       "    <tr>\n",
       "      <th>77</th>\n",
       "      <td>55</td>\n",
       "      <td>0.418</td>\n",
       "      <td>ERI</td>\n",
       "      <td>4</td>\n",
       "      <td>1007.28000</td>\n",
       "      <td>NaN</td>\n",
       "      <td>NaN</td>\n",
       "      <td>0.62</td>\n",
       "      <td>NaN</td>\n",
       "      <td>3.338293</td>\n",
       "      <td>SubSaharian</td>\n",
       "      <td>-1.822009</td>\n",
       "      <td>-0.836083</td>\n",
       "    </tr>\n",
       "    <tr>\n",
       "      <th>91</th>\n",
       "      <td>26</td>\n",
       "      <td>0.406</td>\n",
       "      <td>BDI</td>\n",
       "      <td>4</td>\n",
       "      <td>663.57001</td>\n",
       "      <td>NaN</td>\n",
       "      <td>66.900002</td>\n",
       "      <td>4.16</td>\n",
       "      <td>NaN</td>\n",
       "      <td>7.535565</td>\n",
       "      <td>SubSaharian</td>\n",
       "      <td>-1.901882</td>\n",
       "      <td>-0.862844</td>\n",
       "    </tr>\n",
       "    <tr>\n",
       "      <th>30</th>\n",
       "      <td>187</td>\n",
       "      <td>0.399</td>\n",
       "      <td>BFA</td>\n",
       "      <td>4</td>\n",
       "      <td>1095.96000</td>\n",
       "      <td>16.5</td>\n",
       "      <td>65.800003</td>\n",
       "      <td>4.64</td>\n",
       "      <td>19.1</td>\n",
       "      <td>4.960263</td>\n",
       "      <td>SubSaharian</td>\n",
       "      <td>-1.948474</td>\n",
       "      <td>-0.829179</td>\n",
       "    </tr>\n",
       "    <tr>\n",
       "      <th>63</th>\n",
       "      <td>32</td>\n",
       "      <td>0.347</td>\n",
       "      <td>CAF</td>\n",
       "      <td>4</td>\n",
       "      <td>690.03998</td>\n",
       "      <td>NaN</td>\n",
       "      <td>NaN</td>\n",
       "      <td>1.66</td>\n",
       "      <td>NaN</td>\n",
       "      <td>4.200222</td>\n",
       "      <td>SubSaharian</td>\n",
       "      <td>-2.294586</td>\n",
       "      <td>-0.860784</td>\n",
       "    </tr>\n",
       "  </tbody>\n",
       "</table>\n",
       "</div>"
      ],
      "text/plain": [
       "    Unnamed: 0  undp_hdi ccodealp  ht_region   gle_cgdpc  imf_pop  wef_imort  \\\n",
       "33         139     0.421      GNB          4   961.26001      NaN        NaN   \n",
       "77          55     0.418      ERI          4  1007.28000      NaN        NaN   \n",
       "91          26     0.406      BDI          4   663.57001      NaN  66.900002   \n",
       "30         187     0.399      BFA          4  1095.96000     16.5  65.800003   \n",
       "63          32     0.347      CAF          4   690.03998      NaN        NaN   \n",
       "\n",
       "    who_alc2000  who_tobt  wdi_exph region_recod         z   z_score  \n",
       "33         3.57       NaN  5.593137  SubSaharian -1.802041 -0.839666  \n",
       "77         0.62       NaN  3.338293  SubSaharian -1.822009 -0.836083  \n",
       "91         4.16       NaN  7.535565  SubSaharian -1.901882 -0.862844  \n",
       "30         4.64      19.1  4.960263  SubSaharian -1.948474 -0.829179  \n",
       "63         1.66       NaN  4.200222  SubSaharian -2.294586 -0.860784  "
      ]
     },
     "execution_count": 13,
     "metadata": {},
     "output_type": "execute_result"
    }
   ],
   "source": [
    "df['z'] = .0\n",
    "\n",
    "df['z'] = (df['gle_cgdpc']-df['gle_cgdpc'].mean())/df['gle_cgdpc'].std()\n",
    "#df_sorted = df.sort_values(by = 'z',ascending = False)\n",
    "df_sorted = df_sorted.dropna(subset = ['gle_cgdpc'])\n",
    "df_sorted.tail()\n",
    "\n"
   ]
  },
  {
   "cell_type": "markdown",
   "metadata": {},
   "source": [
    "## 4. Estime el puntaje z de las regiones\n",
    "Para ello, modifique la función para generar dotplots de la semana pasada, donde deberá agregar\n",
    "una opción al argumento statistic para calcular el puntaje z.\n"
   ]
  },
  {
   "cell_type": "code",
   "execution_count": 9,
   "metadata": {
    "scrolled": true
   },
   "outputs": [
    {
     "data": {
      "image/png": "[encoded data removed]",
      "text/plain": [
       "<Figure size 432x288 with 1 Axes>"
      ]
     },
     "metadata": {
      "needs_background": "light"
     },
     "output_type": "display_data"
    },
    {
     "data": {
      "text/plain": [
       "<Figure size 1440x720 with 0 Axes>"
      ]
     },
     "metadata": {},
     "output_type": "display_data"
    }
   ],
   "source": [
    "def dot_plot_modificada(data,var,plot_by,global_stat=False,statistic='mean'):\n",
    "    if(statistic == 'mean'):\n",
    "        temp = data.groupby(plot_by).mean()[var]\n",
    "        plt.plot(temp.values,temp.index,'ro')\n",
    "    elif(statistic == 'median'):\n",
    "        temp = data.groupby(plot_by).median()[var]\n",
    "        plt.plot(temp.values,temp.index,'ro')\n",
    "    elif(statistic == 'zscore'):\n",
    "        data['z_score'] = (data[var]-data[var].mean())/data[var].std()\n",
    "        temp = data.groupby(plot_by).mean()['z_score']\n",
    "        plt.plot(temp.values,temp.index,'ro')\n",
    "        plt.axvline(data['z_score'].mean(), color='k', linestyle='dashed', linewidth=1)\n",
    "    if(global_stat):\n",
    "        plt.axvline(df[var].mean(), color='k', linestyle='dashed', linewidth=1)\n",
    "    plt.figure(figsize=(20,10))\n",
    "    plt.show()\n",
    "        \n",
    "dot_plot_modificada(df_sorted,'gle_cgdpc','region_recod',False,'zscore')"
   ]
  },
  {
   "cell_type": "markdown",
   "metadata": {},
   "source": [
    "## 5. Genere un método que devuelva un gráfico comparando dos curvas de densidad\n",
    "1. El método debe contener los siguientes argumentos:\n",
    "    df1 : Tabla de datos 1.\n",
    "    df2 : Tabla de datos 2.\n",
    "    variable : Variable a contrastar.\n",
    "    log : Booleano. Si es True transformar la variable al logaritmo. Por defecto debe ser False .\n",
    "2. Grafique las curvas para imf_pop , gle_cgdpc y undp_hdi . ¿En qué casos es necesario utilizar logaritmos? ¿Por qué?\n",
    "\n",
    "    **Se aplica log normalizacion a las variables imf_pop , gle_cgdpc debido a que por inspeccion grafica tienen comportamientos asintoticos.**"
   ]
  },
  {
   "cell_type": "code",
   "execution_count": 7,
   "metadata": {},
   "outputs": [
    {
     "data": {
      "image/png": "[encoded data removed]",
      "text/plain": [
       "<Figure size 1080x360 with 3 Axes>"
      ]
     },
     "metadata": {
      "needs_background": "light"
     },
     "output_type": "display_data"
    }
   ],
   "source": [
    "df_sorted_simulated = df_sorted.sample(frac = 0.5)\n",
    "\n",
    "def compare_graphs(df1,df2,variable,log=False):  \n",
    "     plt.title(\"Comparacion de \" + variable)\n",
    "     if log:   \n",
    "         np.log(df1[variable] + 0.001) .plot(kind='density')\n",
    "         np.log(df2[variable] + 0.001).plot(kind='density', color='tomato')\n",
    "     else:\n",
    "         df1[variable].plot(kind='density')\n",
    "         df2[variable].plot(kind='density', color='tomato')    \n",
    "\n",
    "plt.figure(figsize=(15,5))\n",
    "plt.subplot(1,3,1)    \n",
    "compare_graphs(df_sorted,df_sorted_simulated,'imf_pop',True)\n",
    "plt.subplot(1,3,2) \n",
    "compare_graphs(df_sorted,df_sorted_simulated,'gle_cgdpc',True)\n",
    "plt.subplot(1,3,3) \n",
    "compare_graphs(df_sorted,df_sorted_simulated,'undp_hdi',False)\n",
    "\n"
   ]
  }
 ],
 "metadata": {
  "kernelspec": {
   "display_name": "Python 3",
   "language": "python",
   "name": "python3"
  },
  "language_info": {
   "codemirror_mode": {
    "name": "ipython",
    "version": 3
   },
   "file_extension": ".py",
   "mimetype": "text/x-python",
   "name": "python",
   "nbconvert_exporter": "python",
   "pygments_lexer": "ipython3",
   "version": "3.7.3"
  }
 },
 "nbformat": 4,
 "nbformat_minor": 2
}
