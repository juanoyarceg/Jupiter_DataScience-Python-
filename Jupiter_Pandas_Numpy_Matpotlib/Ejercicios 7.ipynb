{
 "cells": [
  {
   "cell_type": "markdown",
   "metadata": {},
   "source": [
    "# Desafío - Funciones y probabilidad básica\n"
   ]
  },
  {
   "cell_type": "markdown",
   "metadata": {},
   "source": [
    "## Desafío 1: Generación de funciones"
   ]
  },
  {
   "cell_type": "code",
   "execution_count": 104,
   "metadata": {},
   "outputs": [
    {
     "data": {
      "text/html": [
       "<div>\n",
       "<style scoped>\n",
       "    .dataframe tbody tr th:only-of-type {\n",
       "        vertical-align: middle;\n",
       "    }\n",
       "\n",
       "    .dataframe tbody tr th {\n",
       "        vertical-align: top;\n",
       "    }\n",
       "\n",
       "    .dataframe thead th {\n",
       "        text-align: right;\n",
       "    }\n",
       "</style>\n",
       "<table border=\"1\" class=\"dataframe\">\n",
       "  <thead>\n",
       "    <tr style=\"text-align: right;\">\n",
       "      <th></th>\n",
       "      <th>team</th>\n",
       "      <th>continent</th>\n",
       "      <th>group</th>\n",
       "      <th>group_pos</th>\n",
       "      <th>cantidad_juegos</th>\n",
       "      <th>juegos_ganados</th>\n",
       "      <th>juegos_empatados</th>\n",
       "      <th>juegos_perdidos</th>\n",
       "      <th>goles_favor</th>\n",
       "      <th>goles_contra</th>\n",
       "      <th>goles_diferencia</th>\n",
       "      <th>puntos</th>\n",
       "      <th>clasificado</th>\n",
       "    </tr>\n",
       "  </thead>\n",
       "  <tbody>\n",
       "    <tr>\n",
       "      <th>0</th>\n",
       "      <td>Brazil</td>\n",
       "      <td>southamerica</td>\n",
       "      <td>A</td>\n",
       "      <td>1</td>\n",
       "      <td>3</td>\n",
       "      <td>2</td>\n",
       "      <td>1</td>\n",
       "      <td>0</td>\n",
       "      <td>7</td>\n",
       "      <td>2</td>\n",
       "      <td>5</td>\n",
       "      <td>7</td>\n",
       "      <td>1</td>\n",
       "    </tr>\n",
       "    <tr>\n",
       "      <th>1</th>\n",
       "      <td>Mexico</td>\n",
       "      <td>northamerica</td>\n",
       "      <td>A</td>\n",
       "      <td>2</td>\n",
       "      <td>3</td>\n",
       "      <td>2</td>\n",
       "      <td>1</td>\n",
       "      <td>0</td>\n",
       "      <td>4</td>\n",
       "      <td>1</td>\n",
       "      <td>3</td>\n",
       "      <td>7</td>\n",
       "      <td>1</td>\n",
       "    </tr>\n",
       "    <tr>\n",
       "      <th>2</th>\n",
       "      <td>Croatia</td>\n",
       "      <td>europe</td>\n",
       "      <td>A</td>\n",
       "      <td>3</td>\n",
       "      <td>3</td>\n",
       "      <td>1</td>\n",
       "      <td>0</td>\n",
       "      <td>2</td>\n",
       "      <td>6</td>\n",
       "      <td>6</td>\n",
       "      <td>0</td>\n",
       "      <td>3</td>\n",
       "      <td>0</td>\n",
       "    </tr>\n",
       "    <tr>\n",
       "      <th>3</th>\n",
       "      <td>Cameroon</td>\n",
       "      <td>africa</td>\n",
       "      <td>A</td>\n",
       "      <td>4</td>\n",
       "      <td>3</td>\n",
       "      <td>0</td>\n",
       "      <td>0</td>\n",
       "      <td>3</td>\n",
       "      <td>1</td>\n",
       "      <td>9</td>\n",
       "      <td>−8</td>\n",
       "      <td>0</td>\n",
       "      <td>0</td>\n",
       "    </tr>\n",
       "    <tr>\n",
       "      <th>4</th>\n",
       "      <td>Netherlands</td>\n",
       "      <td>europe</td>\n",
       "      <td>B</td>\n",
       "      <td>1</td>\n",
       "      <td>3</td>\n",
       "      <td>3</td>\n",
       "      <td>0</td>\n",
       "      <td>0</td>\n",
       "      <td>10</td>\n",
       "      <td>3</td>\n",
       "      <td>7</td>\n",
       "      <td>9</td>\n",
       "      <td>1</td>\n",
       "    </tr>\n",
       "  </tbody>\n",
       "</table>\n",
       "</div>"
      ],
      "text/plain": [
       "          team     continent group  group_pos  cantidad_juegos  \\\n",
       "0       Brazil  southamerica     A          1                3   \n",
       "1       Mexico  northamerica     A          2                3   \n",
       "2      Croatia        europe     A          3                3   \n",
       "3     Cameroon        africa     A          4                3   \n",
       "4  Netherlands        europe     B          1                3   \n",
       "\n",
       "   juegos_ganados  juegos_empatados  juegos_perdidos  goles_favor  \\\n",
       "0               2                 1                0            7   \n",
       "1               2                 1                0            4   \n",
       "2               1                 0                2            6   \n",
       "3               0                 0                3            1   \n",
       "4               3                 0                0           10   \n",
       "\n",
       "   goles_contra goles_diferencia  puntos  clasificado  \n",
       "0             2                5       7            1  \n",
       "1             1                3       7            1  \n",
       "2             6                0       3            0  \n",
       "3             9               −8       0            0  \n",
       "4             3                7       9            1  "
      ]
     },
     "execution_count": 104,
     "metadata": {},
     "output_type": "execute_result"
    }
   ],
   "source": [
    "import numpy as np\n",
    "import pandas as pd\n",
    "from scipy import stats\n",
    "\n",
    "df=pd.read_csv('worldcup2014.csv')\n",
    "\n",
    "df.head(5)"
   ]
  },
  {
   "cell_type": "code",
   "execution_count": 105,
   "metadata": {},
   "outputs": [],
   "source": [
    "# f(x) para calcular la media\n",
    "\n",
    "def mean(x):\n",
    "    \"\"\"\n",
    "    Definicion: Esta función entrega la media de un vector x, sumando todos los valores del vector x y dividiendo por el largo del vector x\n",
    "    \n",
    "    Parametros: tipo de dato: int. Necesita un vector numérico X\n",
    "    \n",
    "    Salida: tipo de dato: float (redondeado a 2 digitos) . retorna la media\n",
    "    \"\"\"\n",
    "    x = x.dropna() #eliminar valores perdidos\n",
    "    tmp_mean= round(sum(x)/len(x), 2) \n",
    "    return tmp_mean\n",
    "\n",
    "    "
   ]
  },
  {
   "cell_type": "code",
   "execution_count": 106,
   "metadata": {},
   "outputs": [
    {
     "name": "stdout",
     "output_type": "stream",
     "text": [
      "Help on function mean in module __main__:\n",
      "\n",
      "mean(x)\n",
      "    Definicion: Esta función entrega la media de un vector x, sumando todos los valores del vector x y dividiendo por el largo del vector x\n",
      "    \n",
      "    Parametros: tipo de dato: int. Necesita un vector numérico X\n",
      "    \n",
      "    Salida: tipo de dato: float (redondeado a 2 digitos) . retorna la media\n",
      "\n"
     ]
    }
   ],
   "source": [
    "help(mean)"
   ]
  },
  {
   "cell_type": "code",
   "execution_count": 107,
   "metadata": {},
   "outputs": [
    {
     "data": {
      "text/plain": [
       "4.25"
      ]
     },
     "execution_count": 107,
     "metadata": {},
     "output_type": "execute_result"
    }
   ],
   "source": [
    "mean(df['goles_favor'])"
   ]
  },
  {
   "cell_type": "code",
   "execution_count": 108,
   "metadata": {},
   "outputs": [],
   "source": [
    "# f(x) para calcular la varianza\n",
    "\n",
    "def var(x):\n",
    "    \"\"\"\n",
    "    Definicion: Esta función entrega la varianza de un vector x, para ello se aplica la formula de varianza, usando la media\n",
    "    según la función anterior\n",
    "    \n",
    "    Parametros: tipo de dato: int. Necesita un vector numérico X\n",
    "    \n",
    "    Salida: tipo de dato: float (redondeado a 2 digitos) . retorna la varianza y la media en una lista\n",
    "    \"\"\"\n",
    "    x = x.dropna() #eliminar valores perdidos\n",
    "    tmp_mean= mean(x)\n",
    "    var=0\n",
    "    for var_elemento in x:\n",
    "        var += (var_elemento - tmp_mean) ** 2\n",
    "    variance=round(var/ float(len(x)),2)\n",
    "  \n",
    "       \n",
    "    return variance\n",
    "       \n",
    " \n",
    "    \n",
    "    \n",
    "  \n",
    "\n",
    "    \n",
    "    \n",
    "    "
   ]
  },
  {
   "cell_type": "code",
   "execution_count": 114,
   "metadata": {},
   "outputs": [],
   "source": [
    " # f(x) para calcular la Desviación estandar\n",
    "from math import sqrt\n",
    "\n",
    "def des_std(x):\n",
    "    \"\"\"\n",
    "    Definicion: Esta función entrega la desviación standart de un vector x, aplicando la raíz cuadrada de la fx varianza\n",
    "    \n",
    "    Parametros: tipo de dato: int. Necesita un vector numérico X\n",
    "    \n",
    "    Salida: tipo de dato: float (redondeado a 2 digitos) . retorna la media\n",
    "    \"\"\"\n",
    "    \n",
    "    ds= round (sqrt(var(x)),2)\n",
    "    \n",
    "    return ds\n",
    "    \n",
    " \n",
    "    "
   ]
  },
  {
   "cell_type": "code",
   "execution_count": 110,
   "metadata": {},
   "outputs": [
    {
     "data": {
      "text/plain": [
       "5.19"
      ]
     },
     "execution_count": 110,
     "metadata": {},
     "output_type": "execute_result"
    }
   ],
   "source": [
    "var(df['goles_favor'])\n"
   ]
  },
  {
   "cell_type": "code",
   "execution_count": 115,
   "metadata": {},
   "outputs": [
    {
     "data": {
      "text/plain": [
       "2.28"
      ]
     },
     "execution_count": 115,
     "metadata": {},
     "output_type": "execute_result"
    }
   ],
   "source": [
    "des_std(df['goles_favor'])"
   ]
  },
  {
   "cell_type": "code",
   "execution_count": 116,
   "metadata": {},
   "outputs": [
    {
     "data": {
      "text/plain": [
       "5.19"
      ]
     },
     "execution_count": 116,
     "metadata": {},
     "output_type": "execute_result"
    }
   ],
   "source": [
    "round(np.var(df['goles_favor']),2)\n"
   ]
  },
  {
   "cell_type": "code",
   "execution_count": 117,
   "metadata": {},
   "outputs": [
    {
     "data": {
      "text/plain": [
       "4.25"
      ]
     },
     "execution_count": 117,
     "metadata": {},
     "output_type": "execute_result"
    }
   ],
   "source": [
    "mean(df['goles_contra'])"
   ]
  },
  {
   "cell_type": "code",
   "execution_count": 118,
   "metadata": {},
   "outputs": [
    {
     "data": {
      "text/plain": [
       "4.81"
      ]
     },
     "execution_count": 118,
     "metadata": {},
     "output_type": "execute_result"
    }
   ],
   "source": [
    "var(df['goles_contra'])"
   ]
  },
  {
   "cell_type": "code",
   "execution_count": 119,
   "metadata": {},
   "outputs": [
    {
     "data": {
      "text/plain": [
       "4.22"
      ]
     },
     "execution_count": 119,
     "metadata": {},
     "output_type": "execute_result"
    }
   ],
   "source": [
    "mean(df['puntos'])"
   ]
  },
  {
   "cell_type": "code",
   "execution_count": 120,
   "metadata": {},
   "outputs": [
    {
     "data": {
      "text/plain": [
       "8.05"
      ]
     },
     "execution_count": 120,
     "metadata": {},
     "output_type": "execute_result"
    }
   ],
   "source": [
    "var(df['puntos'])"
   ]
  },
  {
   "cell_type": "markdown",
   "metadata": {},
   "source": [
    "## Desafío 2: "
   ]
  },
  {
   "cell_type": "code",
   "execution_count": 122,
   "metadata": {},
   "outputs": [
    {
     "data": {
      "text/plain": [
       "[         team     continent group  group_pos  cantidad_juegos  juegos_ganados  \\\n",
       " 0      Brazil  southamerica     A          1                3               2   \n",
       " 5       Chile  southamerica     B          2                3               2   \n",
       " 8    Colombia  southamerica     C          1                3               3   \n",
       " 13    Uruguay  southamerica     D          2                3               2   \n",
       " 18    Ecuador  southamerica     E          3                3               1   \n",
       " 20  Argentina  southamerica     F          1                3               3   \n",
       " \n",
       "     juegos_empatados  juegos_perdidos  goles_favor  goles_contra  \\\n",
       " 0                  1                0            7             2   \n",
       " 5                  0                1            5             3   \n",
       " 8                  0                0            9             2   \n",
       " 13                 0                1            4             4   \n",
       " 18                 1                1            3             3   \n",
       " 20                 0                0            6             3   \n",
       " \n",
       "    goles_diferencia  puntos  clasificado  \n",
       " 0                 5       7            1  \n",
       " 5                 2       6            1  \n",
       " 8                 7       9            1  \n",
       " 13                0       6            1  \n",
       " 18                0       4            0  \n",
       " 20                3       9            1  ,\n",
       "              team     continent group  group_pos  cantidad_juegos  \\\n",
       " 1          Mexico  northamerica     A          2                3   \n",
       " 12     Costa Rica  northamerica     D          1                3   \n",
       " 19       Honduras  northamerica     E          4                3   \n",
       " 25  United States  northamerica     G          2                3   \n",
       " \n",
       "     juegos_ganados  juegos_empatados  juegos_perdidos  goles_favor  \\\n",
       " 1                2                 1                0            4   \n",
       " 12               2                 1                0            4   \n",
       " 19               0                 0                3            1   \n",
       " 25               1                 1                1            4   \n",
       " \n",
       "     goles_contra goles_diferencia  puntos  clasificado  \n",
       " 1              1                3       7            1  \n",
       " 12             1                3       7            1  \n",
       " 19             8               −7       0            0  \n",
       " 25             4                0       4            1  ,\n",
       "                       team continent group  group_pos  cantidad_juegos  \\\n",
       " 2                  Croatia    europe     A          3                3   \n",
       " 4              Netherlands    europe     B          1                3   \n",
       " 6                    Spain    europe     B          3                3   \n",
       " 9                   Greece    europe     C          2                3   \n",
       " 14                   Italy    europe     D          3                3   \n",
       " 15                 England    europe     D          4                3   \n",
       " 16                  France    europe     E          1                3   \n",
       " 17             Switzerland    europe     E          2                3   \n",
       " 22  Bosnia and Herzegovina    europe     F          3                3   \n",
       " 24                 Germany    europe     G          1                3   \n",
       " 26                Portugal    europe     G          3                3   \n",
       " 28                 Belgium    europe     H          1                3   \n",
       " 30                  Russia    europe     H          3                3   \n",
       " \n",
       "     juegos_ganados  juegos_empatados  juegos_perdidos  goles_favor  \\\n",
       " 2                1                 0                2            6   \n",
       " 4                3                 0                0           10   \n",
       " 6                1                 0                2            4   \n",
       " 9                1                 1                1            2   \n",
       " 14               1                 0                2            2   \n",
       " 15               0                 1                2            2   \n",
       " 16               2                 1                0            8   \n",
       " 17               2                 0                1            7   \n",
       " 22               1                 0                2            4   \n",
       " 24               2                 1                0            7   \n",
       " 26               1                 1                1            4   \n",
       " 28               3                 0                0            4   \n",
       " 30               0                 2                1            2   \n",
       " \n",
       "     goles_contra goles_diferencia  puntos  clasificado  \n",
       " 2              6                0       3            0  \n",
       " 4              3                7       9            1  \n",
       " 6              7               −3       3            0  \n",
       " 9              4               −2       4            1  \n",
       " 14             3               −1       3            0  \n",
       " 15             4               −2       1            0  \n",
       " 16             2                6       7            1  \n",
       " 17             6                1       6            1  \n",
       " 22             4                0       3            0  \n",
       " 24             2                5       7            1  \n",
       " 26             7               −3       4            0  \n",
       " 28             1                3       9            1  \n",
       " 30             3               −1       2            0  ,\n",
       "            team continent group  group_pos  cantidad_juegos  juegos_ganados  \\\n",
       " 3      Cameroon    africa     A          4                3               0   \n",
       " 10  Ivory Coast    africa     C          3                3               1   \n",
       " 21      Nigeria    africa     F          2                3               1   \n",
       " 27        Ghana    africa     G          4                3               0   \n",
       " 29      Algeria    africa     H          2                3               1   \n",
       " \n",
       "     juegos_empatados  juegos_perdidos  goles_favor  goles_contra  \\\n",
       " 3                  0                3            1             9   \n",
       " 10                 0                2            4             5   \n",
       " 21                 1                1            3             3   \n",
       " 27                 1                2            4             6   \n",
       " 29                 1                1            6             5   \n",
       " \n",
       "    goles_diferencia  puntos  clasificado  \n",
       " 3                −8       0            0  \n",
       " 10               −1       3            0  \n",
       " 21                0       4            1  \n",
       " 27               −2       1            0  \n",
       " 29                1       4            1  ,\n",
       "            team continent group  group_pos  cantidad_juegos  juegos_ganados  \\\n",
       " 7     Australia      asia     B          4                3               0   \n",
       " 11        Japan      asia     C          4                3               0   \n",
       " 23         Iran      asia     F          4                3               0   \n",
       " 31  South Korea      asia     H          4                3               0   \n",
       " \n",
       "     juegos_empatados  juegos_perdidos  goles_favor  goles_contra  \\\n",
       " 7                  0                3            3             9   \n",
       " 11                 1                2            2             6   \n",
       " 23                 1                2            1             4   \n",
       " 31                 1                2            3             6   \n",
       " \n",
       "    goles_diferencia  puntos  clasificado  \n",
       " 7                −6       0            0  \n",
       " 11               −4       1            0  \n",
       " 23               −3       1            0  \n",
       " 31               −3       1            0  ]"
      ]
     },
     "execution_count": 122,
     "metadata": {},
     "output_type": "execute_result"
    }
   ],
   "source": [
    "# Primero generamos mediante una lista los sub dataframe de los continentes\n",
    "\n",
    "lista = []\n",
    "for continent in df['continent'].unique():\n",
    "    lista.append(df[df['continent']==continent])\n",
    "lista\n"
   ]
  },
  {
   "cell_type": "code",
   "execution_count": 132,
   "metadata": {},
   "outputs": [],
   "source": [
    "def analysis(group_by:list,variable:str):\n",
    "    \"\"\"\n",
    "    Definicion: Esta función entrega la media y la varianza de una lista de sub dataframes\n",
    "    \n",
    "    Parametros: group_by: lista de subdata frames: variable: str con el nombre de la serie del subdataframe a analizar\n",
    "    \n",
    "    Salida: Retorna un dataframe con la media y varianza de la serie analizada\n",
    "    \"\"\"\n",
    "    continent = []\n",
    "    store_mean = []\n",
    "    store_std = []\n",
    "    for d in group_by:\n",
    "        continent.append(d.iloc[0,1])\n",
    "        store_mean.append(mean(d[variable]))\n",
    "        store_std.append(var(d[variable]))\n",
    "    tmp = pd.DataFrame({'continente': continent,\n",
    "                        'media_'+variable: store_mean,\n",
    "                        'var_'+variable: store_std})\n",
    "    return tmp"
   ]
  },
  {
   "cell_type": "code",
   "execution_count": 133,
   "metadata": {},
   "outputs": [
    {
     "data": {
      "text/html": [
       "<div>\n",
       "<style scoped>\n",
       "    .dataframe tbody tr th:only-of-type {\n",
       "        vertical-align: middle;\n",
       "    }\n",
       "\n",
       "    .dataframe tbody tr th {\n",
       "        vertical-align: top;\n",
       "    }\n",
       "\n",
       "    .dataframe thead th {\n",
       "        text-align: right;\n",
       "    }\n",
       "</style>\n",
       "<table border=\"1\" class=\"dataframe\">\n",
       "  <thead>\n",
       "    <tr style=\"text-align: right;\">\n",
       "      <th></th>\n",
       "      <th>continente</th>\n",
       "      <th>media_goles_favor</th>\n",
       "      <th>var_goles_favor</th>\n",
       "    </tr>\n",
       "  </thead>\n",
       "  <tbody>\n",
       "    <tr>\n",
       "      <th>0</th>\n",
       "      <td>southamerica</td>\n",
       "      <td>5.67</td>\n",
       "      <td>3.89</td>\n",
       "    </tr>\n",
       "    <tr>\n",
       "      <th>1</th>\n",
       "      <td>northamerica</td>\n",
       "      <td>3.25</td>\n",
       "      <td>1.69</td>\n",
       "    </tr>\n",
       "    <tr>\n",
       "      <th>2</th>\n",
       "      <td>europe</td>\n",
       "      <td>4.77</td>\n",
       "      <td>6.33</td>\n",
       "    </tr>\n",
       "    <tr>\n",
       "      <th>3</th>\n",
       "      <td>africa</td>\n",
       "      <td>3.60</td>\n",
       "      <td>2.64</td>\n",
       "    </tr>\n",
       "    <tr>\n",
       "      <th>4</th>\n",
       "      <td>asia</td>\n",
       "      <td>2.25</td>\n",
       "      <td>0.69</td>\n",
       "    </tr>\n",
       "  </tbody>\n",
       "</table>\n",
       "</div>"
      ],
      "text/plain": [
       "     continente  media_goles_favor  var_goles_favor\n",
       "0  southamerica               5.67             3.89\n",
       "1  northamerica               3.25             1.69\n",
       "2        europe               4.77             6.33\n",
       "3        africa               3.60             2.64\n",
       "4          asia               2.25             0.69"
      ]
     },
     "execution_count": 133,
     "metadata": {},
     "output_type": "execute_result"
    }
   ],
   "source": [
    "analysis(lista,'goles_favor' )"
   ]
  },
  {
   "cell_type": "code",
   "execution_count": 135,
   "metadata": {},
   "outputs": [
    {
     "data": {
      "text/html": [
       "<div>\n",
       "<style scoped>\n",
       "    .dataframe tbody tr th:only-of-type {\n",
       "        vertical-align: middle;\n",
       "    }\n",
       "\n",
       "    .dataframe tbody tr th {\n",
       "        vertical-align: top;\n",
       "    }\n",
       "\n",
       "    .dataframe thead th {\n",
       "        text-align: right;\n",
       "    }\n",
       "</style>\n",
       "<table border=\"1\" class=\"dataframe\">\n",
       "  <thead>\n",
       "    <tr style=\"text-align: right;\">\n",
       "      <th></th>\n",
       "      <th>continente</th>\n",
       "      <th>media_puntos</th>\n",
       "      <th>var_puntos</th>\n",
       "    </tr>\n",
       "  </thead>\n",
       "  <tbody>\n",
       "    <tr>\n",
       "      <th>0</th>\n",
       "      <td>southamerica</td>\n",
       "      <td>6.83</td>\n",
       "      <td>3.14</td>\n",
       "    </tr>\n",
       "    <tr>\n",
       "      <th>1</th>\n",
       "      <td>northamerica</td>\n",
       "      <td>4.50</td>\n",
       "      <td>8.25</td>\n",
       "    </tr>\n",
       "    <tr>\n",
       "      <th>2</th>\n",
       "      <td>europe</td>\n",
       "      <td>4.69</td>\n",
       "      <td>6.37</td>\n",
       "    </tr>\n",
       "    <tr>\n",
       "      <th>3</th>\n",
       "      <td>africa</td>\n",
       "      <td>2.40</td>\n",
       "      <td>2.64</td>\n",
       "    </tr>\n",
       "    <tr>\n",
       "      <th>4</th>\n",
       "      <td>asia</td>\n",
       "      <td>0.75</td>\n",
       "      <td>0.19</td>\n",
       "    </tr>\n",
       "  </tbody>\n",
       "</table>\n",
       "</div>"
      ],
      "text/plain": [
       "     continente  media_puntos  var_puntos\n",
       "0  southamerica          6.83        3.14\n",
       "1  northamerica          4.50        8.25\n",
       "2        europe          4.69        6.37\n",
       "3        africa          2.40        2.64\n",
       "4          asia          0.75        0.19"
      ]
     },
     "execution_count": 135,
     "metadata": {},
     "output_type": "execute_result"
    }
   ],
   "source": [
    "analysis(lista,'puntos' )"
   ]
  },
  {
   "cell_type": "code",
   "execution_count": 134,
   "metadata": {},
   "outputs": [
    {
     "data": {
      "text/html": [
       "<div>\n",
       "<style scoped>\n",
       "    .dataframe tbody tr th:only-of-type {\n",
       "        vertical-align: middle;\n",
       "    }\n",
       "\n",
       "    .dataframe tbody tr th {\n",
       "        vertical-align: top;\n",
       "    }\n",
       "\n",
       "    .dataframe thead th {\n",
       "        text-align: right;\n",
       "    }\n",
       "</style>\n",
       "<table border=\"1\" class=\"dataframe\">\n",
       "  <thead>\n",
       "    <tr style=\"text-align: right;\">\n",
       "      <th></th>\n",
       "      <th>continente</th>\n",
       "      <th>media_goles_contra</th>\n",
       "      <th>var_goles_contra</th>\n",
       "    </tr>\n",
       "  </thead>\n",
       "  <tbody>\n",
       "    <tr>\n",
       "      <th>0</th>\n",
       "      <td>southamerica</td>\n",
       "      <td>2.83</td>\n",
       "      <td>0.47</td>\n",
       "    </tr>\n",
       "    <tr>\n",
       "      <th>1</th>\n",
       "      <td>northamerica</td>\n",
       "      <td>3.50</td>\n",
       "      <td>8.25</td>\n",
       "    </tr>\n",
       "    <tr>\n",
       "      <th>2</th>\n",
       "      <td>europe</td>\n",
       "      <td>4.00</td>\n",
       "      <td>3.54</td>\n",
       "    </tr>\n",
       "    <tr>\n",
       "      <th>3</th>\n",
       "      <td>africa</td>\n",
       "      <td>5.60</td>\n",
       "      <td>3.84</td>\n",
       "    </tr>\n",
       "    <tr>\n",
       "      <th>4</th>\n",
       "      <td>asia</td>\n",
       "      <td>6.25</td>\n",
       "      <td>3.19</td>\n",
       "    </tr>\n",
       "  </tbody>\n",
       "</table>\n",
       "</div>"
      ],
      "text/plain": [
       "     continente  media_goles_contra  var_goles_contra\n",
       "0  southamerica                2.83              0.47\n",
       "1  northamerica                3.50              8.25\n",
       "2        europe                4.00              3.54\n",
       "3        africa                5.60              3.84\n",
       "4          asia                6.25              3.19"
      ]
     },
     "execution_count": 134,
     "metadata": {},
     "output_type": "execute_result"
    }
   ],
   "source": [
    "analysis(lista,'goles_contra' )"
   ]
  },
  {
   "cell_type": "code",
   "execution_count": null,
   "metadata": {},
   "outputs": [],
   "source": [
    "# la mayor cantidad de goles a favor se encuentra en sudamérica con 5.67\n",
    "# la mayor cantidad de goles en contra se encuentra en asia con 6.25\n",
    "# la mayor cantidad de puntos se encuentra en sudamerica con 6.83"
   ]
  },
  {
   "cell_type": "markdown",
   "metadata": {},
   "source": [
    "## Desafío 3"
   ]
  },
  {
   "cell_type": "code",
   "execution_count": 195,
   "metadata": {},
   "outputs": [],
   "source": [
    "def generate_pet():\n",
    "    \"\"\"\n",
    "    Definicion: Esta función genera aleatoriamente un string 'gato' o'perro'\n",
    "    \n",
    "    Parametros: Sin paramentros\n",
    "    \n",
    "    Salida: Retorna un str 'gato' o'perro'\n",
    "    \"\"\"\n",
    "    lista =['perro','gato'] \n",
    "    return  np.random.choice(lista)\n",
    "       \n",
    "    \n",
    "    "
   ]
  },
  {
   "cell_type": "code",
   "execution_count": 265,
   "metadata": {},
   "outputs": [
    {
     "name": "stdout",
     "output_type": "stream",
     "text": [
      "['perro', 'gato', 'gato', 'perro', 'perro', 'gato', 'perro', 'gato', 'perro', 'gato', 'perro', 'gato', 'gato', 'gato', 'gato', 'gato', 'gato', 'gato', 'perro', 'perro']\n"
     ]
    }
   ],
   "source": [
    "pet=[]\n",
    "np.random.seed(2)\n",
    "for i in range (20):\n",
    "   \n",
    "    pets= generate_pet()   \n",
    "    pet.append(pets) \n",
    "\n",
    "print(pet)\n"
   ]
  },
  {
   "cell_type": "code",
   "execution_count": 266,
   "metadata": {},
   "outputs": [
    {
     "name": "stdout",
     "output_type": "stream",
     "text": [
      "0.4\n"
     ]
    }
   ],
   "source": [
    "probabilidad_perro=pet.count('perro')/len(pet)\n",
    "print(probabilidad_perro)"
   ]
  },
  {
   "cell_type": "code",
   "execution_count": 267,
   "metadata": {},
   "outputs": [
    {
     "name": "stdout",
     "output_type": "stream",
     "text": [
      "0.6\n"
     ]
    }
   ],
   "source": [
    "probabilidad_gato=pet.count('gato')/len(pet)\n",
    "print(probabilidad_gato)"
   ]
  },
  {
   "cell_type": "code",
   "execution_count": 261,
   "metadata": {},
   "outputs": [
    {
     "data": {
      "text/plain": [
       "gato     0.6\n",
       "perro    0.4\n",
       "dtype: float64"
      ]
     },
     "execution_count": 261,
     "metadata": {},
     "output_type": "execute_result"
    }
   ],
   "source": [
    "# otra forma es transforma la lista a dataframe\n",
    "\n",
    "df=pd.Series(pet)\n",
    "\n",
    "df.value_counts('%')\n",
    "\n",
    " # la probabilidad de obtener un gato (0.6) es mayor que obtener un perro (0.4) para esta semilla"
   ]
  },
  {
   "cell_type": "code",
   "execution_count": null,
   "metadata": {},
   "outputs": [],
   "source": [
    "# se usa randomseed para fijar un valor de la semilla generada al azar\n",
    "# es decir, si se genera una vez un random, luego esos valores se mantienen fijos"
   ]
  },
  {
   "cell_type": "markdown",
   "metadata": {},
   "source": [
    "## Desafío 4"
   ]
  },
  {
   "cell_type": "code",
   "execution_count": 485,
   "metadata": {},
   "outputs": [],
   "source": [
    "def simulate_pets_prob(n:int):\n",
    "    \"\"\"\n",
    "    Definicion: Esta función genera aleatoriamente una simulación finita de string 'gato' o 'perro' dependiendo de las condiciones\n",
    "    de edad\n",
    "    \n",
    "    Parametros: n, recibe un entero que define la cantidad de simulaciones\n",
    "    \n",
    "    Salida: Retorna el n ingresado y los contadores de las condiciones de edad planteadas en el problema\n",
    "    \"\"\"\n",
    "    almenosunperro=0\n",
    "    perroviejo=0\n",
    "    perrosviejoyjoven=0\n",
    "    np.random.seed(1)\n",
    "   \n",
    "    for i in range (n):\n",
    "        young_pet=np.random.choice(['perro','gato'])\n",
    "        old_pet=np.random.choice(['perro','gato'])\n",
    "        if young_pet=='perro'or old_pet=='perro':\n",
    "            almenosunperro +=1\n",
    "        if old_pet=='perro':\n",
    "            perroviejo +=1       \n",
    "        if young_pet=='perro'and old_pet=='perro':\n",
    "            perrosviejoyjoven+=1  \n",
    "    return  n, almenosunperro,perroviejo, perrosviejoyjoven\n"
   ]
  },
  {
   "cell_type": "code",
   "execution_count": 498,
   "metadata": {},
   "outputs": [
    {
     "name": "stdout",
     "output_type": "stream",
     "text": [
      "100\n"
     ]
    }
   ],
   "source": [
    "mascotas_simuladas=simulate_pets_prob(100)\n",
    "n_mascotas_simuladas=mascotas_simuladas[0] #el n total de mascotas simuladas\n",
    "print(n_mascotas_simuladas)"
   ]
  },
  {
   "cell_type": "code",
   "execution_count": 499,
   "metadata": {},
   "outputs": [
    {
     "name": "stdout",
     "output_type": "stream",
     "text": [
      "68\n"
     ]
    }
   ],
   "source": [
    "n_almenosunperro=mascotas_simuladas[1] #el n  de simulaciones donde al menos es un perro, es decir perro joven o perro viejo\n",
    "print(n_almenosunperro)"
   ]
  },
  {
   "cell_type": "code",
   "execution_count": 500,
   "metadata": {},
   "outputs": [
    {
     "name": "stdout",
     "output_type": "stream",
     "text": [
      "43\n"
     ]
    }
   ],
   "source": [
    "n_perroviejo=mascotas_simuladas[2] #el n de simulaciones   donde son perros y viejos\n",
    "print(n_perroviejo)"
   ]
  },
  {
   "cell_type": "code",
   "execution_count": 501,
   "metadata": {},
   "outputs": [
    {
     "name": "stdout",
     "output_type": "stream",
     "text": [
      "28\n"
     ]
    }
   ],
   "source": [
    "n_perrosviejosyjoven=mascotas_simuladas[3] #el n de simulaciones  donde son perros jovenes y viejos\n",
    "print(n_perrosviejosyjoven)"
   ]
  },
  {
   "cell_type": "code",
   "execution_count": 502,
   "metadata": {},
   "outputs": [
    {
     "data": {
      "text/plain": [
       "0.68"
      ]
     },
     "execution_count": 502,
     "metadata": {},
     "output_type": "execute_result"
    }
   ],
   "source": [
    "n_almenosunperro/n_mascotas_simuladas # la pp (probabilidad) de obtener al menos un perro en la simulación"
   ]
  },
  {
   "cell_type": "code",
   "execution_count": 503,
   "metadata": {},
   "outputs": [
    {
     "data": {
      "text/plain": [
       "0.43"
      ]
     },
     "execution_count": 503,
     "metadata": {},
     "output_type": "execute_result"
    }
   ],
   "source": [
    "n_perroviejo/n_mascotas_simuladas # la pp (probabilidad) de obtener  un perro viejo en la simulación"
   ]
  },
  {
   "cell_type": "code",
   "execution_count": 504,
   "metadata": {},
   "outputs": [
    {
     "data": {
      "text/plain": [
       "0.28"
      ]
     },
     "execution_count": 504,
     "metadata": {},
     "output_type": "execute_result"
    }
   ],
   "source": [
    "n_perrosviejosyjoven/n_mascotas_simuladas # la pp (probabilidad) de obtener  un perro viejo y uno joven en la simulación"
   ]
  },
  {
   "cell_type": "code",
   "execution_count": null,
   "metadata": {},
   "outputs": [],
   "source": [
    "# según la simulación es más probable obtener al menos un perro con 68 % de probabilidad de la muestra total, luego sigue la pp\n",
    "# de obtener un perro viejo (43 %) y finalmente es menos probable obtener un perro viejo y joven, es decir que cumpla ambas condiciones\n",
    "# en la muestra con un 28 %"
   ]
  }
 ],
 "metadata": {
  "kernelspec": {
   "display_name": "Python 3",
   "language": "python",
   "name": "python3"
  },
  "language_info": {
   "codemirror_mode": {
    "name": "ipython",
    "version": 3
   },
   "file_extension": ".py",
   "mimetype": "text/x-python",
   "name": "python",
   "nbconvert_exporter": "python",
   "pygments_lexer": "ipython3",
   "version": "3.7.3"
  }
 },
 "nbformat": 4,
 "nbformat_minor": 2
}
